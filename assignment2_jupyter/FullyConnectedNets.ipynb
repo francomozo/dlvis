{
 "cells": [
  {
   "cell_type": "markdown",
   "metadata": {
    "id": "WQ9G79c6tcl2",
    "tags": [
     "pdf-title"
    ]
   },
   "source": [
    "# Fully-Connected Neural Nets\n",
    "In the previous homework you implemented a fully-connected two-layer neural network on CIFAR-10. The implementation was simple but not very modular since the loss and gradient were computed in a single monolithic function. This is manageable for a simple two-layer network, but would become impractical as we move to bigger models. Ideally we want to build networks using a more modular design so that we can implement different layer types in isolation and then snap them together into models with different architectures."
   ]
  },
  {
   "cell_type": "markdown",
   "metadata": {
    "id": "HlMJTPuAtcl3",
    "tags": [
     "pdf-ignore"
    ]
   },
   "source": [
    "In this exercise we will implement fully-connected networks using a more modular approach. For each layer we will implement a `forward` and a `backward` function. The `forward` function will receive inputs, weights, and other parameters and will return both an output and a `cache` object storing data needed for the backward pass, like this:\n",
    "\n",
    "```python\n",
    "def layer_forward(x, w):\n",
    "  \"\"\" Receive inputs x and weights w \"\"\"\n",
    "  # Do some computations ...\n",
    "  z = # ... some intermediate value\n",
    "  # Do some more computations ...\n",
    "  out = # the output\n",
    "   \n",
    "  cache = (x, w, z, out) # Values we need to compute gradients\n",
    "   \n",
    "  return out, cache\n",
    "```\n",
    "\n",
    "The backward pass will receive upstream derivatives and the `cache` object, and will return gradients with respect to the inputs and weights, like this:\n",
    "\n",
    "```python\n",
    "def layer_backward(dout, cache):\n",
    "  \"\"\"\n",
    "  Receive dout (derivative of loss with respect to outputs) and cache,\n",
    "  and compute derivative with respect to inputs.\n",
    "  \"\"\"\n",
    "  # Unpack cache values\n",
    "  x, w, z, out = cache\n",
    "  \n",
    "  # Use values in cache to compute derivatives\n",
    "  dx = # Derivative of loss with respect to x\n",
    "  dw = # Derivative of loss with respect to w\n",
    "  \n",
    "  return dx, dw\n",
    "```\n",
    "\n",
    "After implementing a bunch of layers this way, we will be able to easily combine them to build classifiers with different architectures.\n",
    "\n",
    "In addition to implementing fully-connected networks of arbitrary depth, we will also explore different update rules for optimization, and introduce Dropout as a regularizer and Batch/Layer Normalization as a tool to more efficiently optimize deep networks.\n",
    "  "
   ]
  },
  {
   "cell_type": "code",
   "execution_count": 1,
   "metadata": {
    "id": "kJtrdbD9tcl3",
    "tags": [
     "pdf-ignore"
    ]
   },
   "outputs": [
    {
     "name": "stdout",
     "output_type": "stream",
     "text": [
      "=========== You can safely ignore the message below if you are NOT working on ConvolutionalNetworks.ipynb ===========\n",
      "\tYou will need to compile a Cython extension for a portion of this assignment.\n",
      "\tThe instructions to do this will be given in a section of the notebook below.\n",
      "\tThere will be an option for Colab users and another for Jupyter (local) users.\n"
     ]
    }
   ],
   "source": [
    "# As usual, a bit of setup\n",
    "from __future__ import print_function\n",
    "import time\n",
    "import numpy as np\n",
    "import matplotlib.pyplot as plt\n",
    "from cs231n.classifiers.fc_net import *\n",
    "from cs231n.data_utils import get_CIFAR10_data\n",
    "from cs231n.gradient_check import eval_numerical_gradient, eval_numerical_gradient_array\n",
    "from cs231n.solver import Solver\n",
    "\n",
    "%matplotlib inline\n",
    "plt.rcParams['figure.figsize'] = (10.0, 8.0) # set default size of plots\n",
    "plt.rcParams['image.interpolation'] = 'nearest'\n",
    "plt.rcParams['image.cmap'] = 'gray'\n",
    "\n",
    "# for auto-reloading external modules\n",
    "# see http://stackoverflow.com/questions/1907993/autoreload-of-modules-in-ipython\n",
    "%load_ext autoreload\n",
    "%autoreload 2\n",
    "\n",
    "def rel_error(x, y):\n",
    "  \"\"\" returns relative error \"\"\"\n",
    "  return np.max(np.abs(x - y) / (np.maximum(1e-8, np.abs(x) + np.abs(y))))"
   ]
  },
  {
   "cell_type": "code",
   "execution_count": 2,
   "metadata": {
    "id": "UMYqBTG_tcl6",
    "tags": [
     "pdf-ignore"
    ]
   },
   "outputs": [
    {
     "name": "stdout",
     "output_type": "stream",
     "text": [
      "('X_train: ', (49000, 3, 32, 32))\n",
      "('y_train: ', (49000,))\n",
      "('X_val: ', (1000, 3, 32, 32))\n",
      "('y_val: ', (1000,))\n",
      "('X_test: ', (1000, 3, 32, 32))\n",
      "('y_test: ', (1000,))\n"
     ]
    }
   ],
   "source": [
    "# Load the (preprocessed) CIFAR10 data.\n",
    "\n",
    "data = get_CIFAR10_data()\n",
    "for k, v in list(data.items()):\n",
    "  print(('%s: ' % k, v.shape))"
   ]
  },
  {
   "cell_type": "markdown",
   "metadata": {
    "id": "_vn9F4astcl8"
   },
   "source": [
    "# Affine layer: forward\n",
    "Open the file `cs231n/layers.py` and implement the `affine_forward` function.\n",
    "\n",
    "Once you are done you can test your implementaion by running the following:"
   ]
  },
  {
   "cell_type": "code",
   "execution_count": 3,
   "metadata": {
    "id": "l9-Q6wNntcl9"
   },
   "outputs": [
    {
     "name": "stdout",
     "output_type": "stream",
     "text": [
      "Testing affine_forward function:\n",
      "difference:  9.769847728806635e-10\n"
     ]
    }
   ],
   "source": [
    "# Test the affine_forward function\n",
    "\n",
    "num_inputs = 2\n",
    "input_shape = (4, 5, 6)\n",
    "output_dim = 3\n",
    "\n",
    "input_size = num_inputs * np.prod(input_shape)\n",
    "weight_size = output_dim * np.prod(input_shape)\n",
    "\n",
    "x = np.linspace(-0.1, 0.5, num=input_size).reshape(num_inputs, *input_shape)\n",
    "w = np.linspace(-0.2, 0.3, num=weight_size).reshape(np.prod(input_shape), output_dim)\n",
    "b = np.linspace(-0.3, 0.1, num=output_dim)\n",
    "\n",
    "out, _ = affine_forward(x, w, b)\n",
    "correct_out = np.array([[ 1.49834967,  1.70660132,  1.91485297],\n",
    "                        [ 3.25553199,  3.5141327,   3.77273342]])\n",
    "\n",
    "# Compare your output with ours. The error should be around e-9 or less.\n",
    "print('Testing affine_forward function:')\n",
    "print('difference: ', rel_error(out, correct_out))"
   ]
  },
  {
   "cell_type": "markdown",
   "metadata": {
    "id": "rk3z6nbVtcl_"
   },
   "source": [
    "# Affine layer: backward\n",
    "Now implement the `affine_backward` function and test your implementation using numeric gradient checking."
   ]
  },
  {
   "cell_type": "code",
   "execution_count": 4,
   "metadata": {
    "id": "QwhfW1LctcmA"
   },
   "outputs": [
    {
     "name": "stdout",
     "output_type": "stream",
     "text": [
      "Testing affine_backward function:\n",
      "dx error:  5.399100368651805e-11\n",
      "dw error:  9.904211865398145e-11\n",
      "db error:  2.4122867568119087e-11\n"
     ]
    }
   ],
   "source": [
    "# Test the affine_backward function\n",
    "np.random.seed(231)\n",
    "x = np.random.randn(10, 2, 3)\n",
    "w = np.random.randn(6, 5)\n",
    "b = np.random.randn(5)\n",
    "dout = np.random.randn(10, 5)\n",
    "\n",
    "dx_num = eval_numerical_gradient_array(lambda x: affine_forward(x, w, b)[0], x, dout)\n",
    "dw_num = eval_numerical_gradient_array(lambda w: affine_forward(x, w, b)[0], w, dout)\n",
    "db_num = eval_numerical_gradient_array(lambda b: affine_forward(x, w, b)[0], b, dout)\n",
    "\n",
    "_, cache = affine_forward(x, w, b)\n",
    "dx, dw, db = affine_backward(dout, cache)\n",
    "\n",
    "# The error should be around e-10 or less\n",
    "print('Testing affine_backward function:')\n",
    "print('dx error: ', rel_error(dx_num, dx))\n",
    "print('dw error: ', rel_error(dw_num, dw))\n",
    "print('db error: ', rel_error(db_num, db))"
   ]
  },
  {
   "cell_type": "markdown",
   "metadata": {
    "id": "U1sldARqtcmC"
   },
   "source": [
    "# ReLU activation: forward\n",
    "Implement the forward pass for the ReLU activation function in the `relu_forward` function and test your implementation using the following:"
   ]
  },
  {
   "cell_type": "code",
   "execution_count": 5,
   "metadata": {
    "id": "764zQRXitcmD"
   },
   "outputs": [
    {
     "name": "stdout",
     "output_type": "stream",
     "text": [
      "Testing relu_forward function:\n",
      "difference:  4.999999798022158e-08\n"
     ]
    }
   ],
   "source": [
    "# Test the relu_forward function\n",
    "\n",
    "x = np.linspace(-0.5, 0.5, num=12).reshape(3, 4)\n",
    "\n",
    "out, _ = relu_forward(x)\n",
    "correct_out = np.array([[ 0.,          0.,          0.,          0.,        ],\n",
    "                        [ 0.,          0.,          0.04545455,  0.13636364,],\n",
    "                        [ 0.22727273,  0.31818182,  0.40909091,  0.5,       ]])\n",
    "\n",
    "# Compare your output with ours. The error should be on the order of e-8\n",
    "print('Testing relu_forward function:')\n",
    "print('difference: ', rel_error(out, correct_out))"
   ]
  },
  {
   "cell_type": "markdown",
   "metadata": {
    "id": "RcoeLGtotcmF"
   },
   "source": [
    "# ReLU activation: backward\n",
    "Now implement the backward pass for the ReLU activation function in the `relu_backward` function and test your implementation using numeric gradient checking:"
   ]
  },
  {
   "cell_type": "code",
   "execution_count": 6,
   "metadata": {
    "id": "aHRSdSV4tcmG"
   },
   "outputs": [
    {
     "name": "stdout",
     "output_type": "stream",
     "text": [
      "Testing relu_backward function:\n",
      "dx error:  3.2756349136310288e-12\n"
     ]
    }
   ],
   "source": [
    "np.random.seed(231)\n",
    "x = np.random.randn(10, 10)\n",
    "dout = np.random.randn(*x.shape)\n",
    "\n",
    "dx_num = eval_numerical_gradient_array(lambda x: relu_forward(x)[0], x, dout)\n",
    "\n",
    "_, cache = relu_forward(x)\n",
    "dx = relu_backward(dout, cache)\n",
    "\n",
    "# The error should be on the order of e-12\n",
    "print('Testing relu_backward function:')\n",
    "print('dx error: ', rel_error(dx_num, dx))"
   ]
  },
  {
   "cell_type": "markdown",
   "metadata": {
    "id": "pJInraWGtcmI",
    "tags": [
     "pdf-inline"
    ]
   },
   "source": [
    "## Inline Question 1: \n",
    "\n",
    "We've only asked you to implement ReLU, but there are a number of different activation functions that one could use in neural networks, each with its pros and cons. In particular, an issue commonly seen with activation functions is getting zero (or close to zero) gradient flow during backpropagation. Which of the following activation functions have this problem? If you consider these functions in the one dimensional case, what types of input would lead to this behaviour?\n",
    "1. Sigmoid\n",
    "2. ReLU\n",
    "3. Leaky ReLU\n",
    "4. ELU (Exponential Linear Unit)\n",
    "\n",
    "## Answer:\n",
    "\n",
    "1. La derivada de la sigmoide $\\sigma$ es $\\sigma' = \\sigma (1-\\sigma)$ la cual se anula para valores mayores a 5 y menores a -5 aproximadamente, por lo que el gradiente ahi es cero. Tomando entrada muy grandes o muy pequeñas nos lleva a este comportamiento\n",
    "2. La derivada de la Relu es la función de Heaviside, es cero si la entrada es negativa y 1 si es positiva por lo que si tomamos entras negativas tenemos el problema de desvanecimiento del gradiente para entradas negativas\n",
    "3. La Leaky ReLu soluciona el problema anterior introduciendo un gradiente no nulo para entradas negativas, permitiendole a la red seguir aprendiendo para estos valores de entrada.\n",
    "4. La ELU no sufre el problema del desvanecimiento del gradiente ya que este es nulo cuando la entrada x tiende a menos infinito. Esto se observa en la expresion de la funcion para valores negativos $\\alpha (e^x-1)$ con $\\alpha$ una constante\n"
   ]
  },
  {
   "cell_type": "markdown",
   "metadata": {
    "id": "JobtBD1JwPmM"
   },
   "source": [
    "## Inline Question 2: \n",
    "\n",
    "How would you implement the backward pass of a LeakyReLU layer, with slope parameter  ```alpha```?\n",
    "\n",
    "You don't need to make it work. Just write **one line of code** with the important part in the space below. Assume the same variable names as in the ReLU functions of ```layers.py```.\n",
    "\n",
    "\n",
    "## Answer:\n",
    "\n",
    "La funcion Relu deja pasar los gradientes mayores a cero y anula los menores. La funcion Leaky Relu deja pasar los gradientes menores a cero, atenuandolos por la constante ```alpha```. Esto se puede implementar facilmente con la funcion np.where:\n",
    "\n",
    "```python\n",
    "dx = np.where(x>0, dout, dout*alpha)\n",
    "\n",
    "```"
   ]
  },
  {
   "cell_type": "markdown",
   "metadata": {
    "id": "l-Xl_xHUtcmJ"
   },
   "source": [
    "# \"Sandwich\" layers\n",
    "There are some common patterns of layers that are frequently used in neural nets. For example, affine layers are frequently followed by a ReLU nonlinearity. To make these common patterns easy, we define several convenience layers in the file `cs231n/layer_utils.py`.\n",
    "\n",
    "For now take a look at the `affine_relu_forward` and `affine_relu_backward` functions, and run the following to numerically gradient check the backward pass:"
   ]
  },
  {
   "cell_type": "code",
   "execution_count": 7,
   "metadata": {
    "id": "dZf0aGpltcmJ"
   },
   "outputs": [
    {
     "name": "stdout",
     "output_type": "stream",
     "text": [
      "Testing affine_relu_forward and affine_relu_backward:\n",
      "dx error:  6.750562121603446e-11\n",
      "dw error:  8.162015570444288e-11\n",
      "db error:  7.826724021458994e-12\n"
     ]
    }
   ],
   "source": [
    "from cs231n.layer_utils import affine_relu_forward, affine_relu_backward\n",
    "np.random.seed(231)\n",
    "x = np.random.randn(2, 3, 4)\n",
    "w = np.random.randn(12, 10)\n",
    "b = np.random.randn(10)\n",
    "dout = np.random.randn(2, 10)\n",
    "\n",
    "out, cache = affine_relu_forward(x, w, b)\n",
    "dx, dw, db = affine_relu_backward(dout, cache)\n",
    "\n",
    "dx_num = eval_numerical_gradient_array(lambda x: affine_relu_forward(x, w, b)[0], x, dout)\n",
    "dw_num = eval_numerical_gradient_array(lambda w: affine_relu_forward(x, w, b)[0], w, dout)\n",
    "db_num = eval_numerical_gradient_array(lambda b: affine_relu_forward(x, w, b)[0], b, dout)\n",
    "\n",
    "# Relative error should be around e-10 or less\n",
    "print('Testing affine_relu_forward and affine_relu_backward:')\n",
    "print('dx error: ', rel_error(dx_num, dx))\n",
    "print('dw error: ', rel_error(dw_num, dw))\n",
    "print('db error: ', rel_error(db_num, db))"
   ]
  },
  {
   "cell_type": "markdown",
   "metadata": {
    "id": "OqHvZj75tcmL"
   },
   "source": [
    "# Loss layers: Softmax and SVM\n",
    "You implemented these loss functions in the last assignment, so we'll give them to you for free here. You should still make sure you understand how they work by looking at the implementations in `cs231n/layers.py`.\n",
    "\n",
    "You can make sure that the implementations are correct by running the following:"
   ]
  },
  {
   "cell_type": "code",
   "execution_count": 8,
   "metadata": {
    "id": "-NBXvjk2tcmM"
   },
   "outputs": [
    {
     "name": "stdout",
     "output_type": "stream",
     "text": [
      "Testing svm_loss:\n",
      "loss:  8.999602749096233\n",
      "dx error:  1.4021566006651672e-09\n",
      "\n",
      "Testing softmax_loss:\n",
      "loss:  2.302545844500738\n",
      "dx error:  9.384673161989355e-09\n"
     ]
    }
   ],
   "source": [
    "np.random.seed(231)\n",
    "num_classes, num_inputs = 10, 50\n",
    "x = 0.001 * np.random.randn(num_inputs, num_classes)\n",
    "y = np.random.randint(num_classes, size=num_inputs)\n",
    "\n",
    "dx_num = eval_numerical_gradient(lambda x: svm_loss(x, y)[0], x, verbose=False)\n",
    "loss, dx = svm_loss(x, y)\n",
    "\n",
    "# Test svm_loss function. Loss should be around 9 and dx error should be around the order of e-9\n",
    "print('Testing svm_loss:')\n",
    "print('loss: ', loss)\n",
    "print('dx error: ', rel_error(dx_num, dx))\n",
    "\n",
    "dx_num = eval_numerical_gradient(lambda x: softmax_loss(x, y)[0], x, verbose=False)\n",
    "loss, dx = softmax_loss(x, y)\n",
    "\n",
    "# Test softmax_loss function. Loss should be close to 2.3 and dx error should be around e-8\n",
    "print('\\nTesting softmax_loss:')\n",
    "print('loss: ', loss)\n",
    "print('dx error: ', rel_error(dx_num, dx))"
   ]
  },
  {
   "cell_type": "markdown",
   "metadata": {
    "id": "7zOHGe1atcmO"
   },
   "source": [
    "# Two-layer network\n",
    "In the previous assignment you implemented a two-layer neural network in a single monolithic class. Now that you have implemented modular versions of the necessary layers, you will reimplement the two layer network using these modular implementations.\n",
    "\n",
    "Open the file `cs231n/classifiers/fc_net.py` and complete the implementation of the `TwoLayerNet` class. This class will serve as a model for the other networks you will implement in this assignment, so read through it to make sure you understand the API. You can run the cell below to test your implementation."
   ]
  },
  {
   "cell_type": "code",
   "execution_count": 9,
   "metadata": {
    "id": "jMufp9V1tcmO"
   },
   "outputs": [
    {
     "name": "stdout",
     "output_type": "stream",
     "text": [
      "Testing initialization ... \n",
      "Testing test-time forward pass ... \n",
      "Testing training loss (no regularization)\n",
      "Running numeric gradient check with reg =  0.0\n",
      "W1 relative error: 1.52e-08\n",
      "W2 relative error: 3.48e-10\n",
      "b1 relative error: 6.55e-09\n",
      "b2 relative error: 4.33e-10\n",
      "Running numeric gradient check with reg =  0.7\n",
      "W1 relative error: 8.18e-07\n",
      "W2 relative error: 2.85e-08\n",
      "b1 relative error: 1.09e-09\n",
      "b2 relative error: 7.76e-10\n"
     ]
    }
   ],
   "source": [
    "np.random.seed(231)\n",
    "N, D, H, C = 3, 5, 50, 7\n",
    "X = np.random.randn(N, D)\n",
    "y = np.random.randint(C, size=N)\n",
    "\n",
    "std = 1e-3\n",
    "model = TwoLayerNet(input_dim=D, hidden_dim=H, num_classes=C, weight_scale=std)\n",
    "\n",
    "print('Testing initialization ... ')\n",
    "W1_std = abs(model.params['W1'].std() - std)\n",
    "b1 = model.params['b1']\n",
    "W2_std = abs(model.params['W2'].std() - std)\n",
    "b2 = model.params['b2']\n",
    "assert W1_std < std / 10, 'First layer weights do not seem right'\n",
    "assert np.all(b1 == 0), 'First layer biases do not seem right'\n",
    "assert W2_std < std / 10, 'Second layer weights do not seem right'\n",
    "assert np.all(b2 == 0), 'Second layer biases do not seem right'\n",
    "\n",
    "print('Testing test-time forward pass ... ')\n",
    "model.params['W1'] = np.linspace(-0.7, 0.3, num=D*H).reshape(D, H)\n",
    "model.params['b1'] = np.linspace(-0.1, 0.9, num=H)\n",
    "model.params['W2'] = np.linspace(-0.3, 0.4, num=H*C).reshape(H, C)\n",
    "model.params['b2'] = np.linspace(-0.9, 0.1, num=C)\n",
    "X = np.linspace(-5.5, 4.5, num=N*D).reshape(D, N).T\n",
    "scores = model.loss(X)\n",
    "correct_scores = np.asarray(\n",
    "  [[11.53165108,  12.2917344,   13.05181771,  13.81190102,  14.57198434, 15.33206765,  16.09215096],\n",
    "   [12.05769098,  12.74614105,  13.43459113,  14.1230412,   14.81149128, 15.49994135,  16.18839143],\n",
    "   [12.58373087,  13.20054771,  13.81736455,  14.43418138,  15.05099822, 15.66781506,  16.2846319 ]])\n",
    "scores_diff = np.abs(scores - correct_scores).sum()\n",
    "assert scores_diff < 1e-6, 'Problem with test-time forward pass'\n",
    "\n",
    "print('Testing training loss (no regularization)')\n",
    "y = np.asarray([0, 5, 1])\n",
    "loss, grads = model.loss(X, y)\n",
    "correct_loss = 3.4702243556\n",
    "assert abs(loss - correct_loss) < 1e-10, 'Problem with training-time loss'\n",
    "\n",
    "model.reg = 1.0\n",
    "loss, grads = model.loss(X, y)\n",
    "correct_loss = 26.5948426952\n",
    "assert abs(loss - correct_loss) < 1e-10, 'Problem with regularization loss'\n",
    "\n",
    "# Errors should be around e-7 or less\n",
    "for reg in [0.0, 0.7]:\n",
    "  print('Running numeric gradient check with reg = ', reg)\n",
    "  model.reg = reg\n",
    "  loss, grads = model.loss(X, y)\n",
    "\n",
    "  for name in sorted(grads):\n",
    "    f = lambda _: model.loss(X, y)[0]\n",
    "    grad_num = eval_numerical_gradient(f, model.params[name], verbose=False)\n",
    "    print('%s relative error: %.2e' % (name, rel_error(grad_num, grads[name])))"
   ]
  },
  {
   "cell_type": "markdown",
   "metadata": {
    "id": "f2CeNS4ytcmQ"
   },
   "source": [
    "# Solver\n",
    "In the previous assignment, the logic for training models was coupled to the models themselves. Following a more modular design, for this assignment we have split the logic for training models into a separate class.\n",
    "\n",
    "Open the file `cs231n/solver.py` and read through it to familiarize yourself with the API. After doing so, use a `Solver` instance to train a `TwoLayerNet` that achieves at least `50%` accuracy on the validation set."
   ]
  },
  {
   "cell_type": "code",
   "execution_count": 15,
   "metadata": {
    "id": "tln_solver_accuracy"
   },
   "outputs": [
    {
     "name": "stdout",
     "output_type": "stream",
     "text": [
      "Modelo 0/18: hidden_dim:50, reg:0.0, epochs:10\n",
      "\t Accuracy de train: 0.576\n",
      "\t Accuracy de val:   0.504\n",
      "\n",
      "Modelo 1/18: hidden_dim:50, reg:0.0, epochs:20\n",
      "\t Accuracy de train: 0.595\n",
      "\t Accuracy de val:   0.501\n",
      "\n",
      "Modelo 2/18: hidden_dim:50, reg:0.3, epochs:10\n",
      "\t Accuracy de train: 0.542\n",
      "\t Accuracy de val:   0.484\n",
      "\n",
      "Modelo 3/18: hidden_dim:50, reg:0.3, epochs:20\n",
      "\t Accuracy de train: 0.59\n",
      "\t Accuracy de val:   0.523\n",
      "\n",
      "Modelo 4/18: hidden_dim:50, reg:0.7, epochs:10\n",
      "\t Accuracy de train: 0.529\n",
      "\t Accuracy de val:   0.485\n",
      "\n",
      "Modelo 5/18: hidden_dim:50, reg:0.7, epochs:20\n",
      "\t Accuracy de train: 0.555\n",
      "\t Accuracy de val:   0.504\n",
      "\n",
      "Modelo 6/18: hidden_dim:100, reg:0.0, epochs:10\n",
      "\t Accuracy de train: 0.625\n",
      "\t Accuracy de val:   0.511\n",
      "\n",
      "Modelo 7/18: hidden_dim:100, reg:0.0, epochs:20\n",
      "\t Accuracy de train: 0.723\n",
      "\t Accuracy de val:   0.529\n",
      "\n",
      "Modelo 8/18: hidden_dim:100, reg:0.3, epochs:10\n",
      "\t Accuracy de train: 0.579\n",
      "\t Accuracy de val:   0.501\n",
      "\n",
      "Modelo 9/18: hidden_dim:100, reg:0.3, epochs:20\n",
      "\t Accuracy de train: 0.623\n",
      "\t Accuracy de val:   0.507\n",
      "\n",
      "Modelo 10/18: hidden_dim:100, reg:0.7, epochs:10\n",
      "\t Accuracy de train: 0.564\n",
      "\t Accuracy de val:   0.489\n",
      "\n",
      "Modelo 11/18: hidden_dim:100, reg:0.7, epochs:20\n",
      "\t Accuracy de train: 0.574\n",
      "\t Accuracy de val:   0.524\n",
      "\n",
      "Modelo 12/18: hidden_dim:1000, reg:0.0, epochs:10\n",
      "\t Accuracy de train: 0.71\n",
      "\t Accuracy de val:   0.516\n",
      "\n",
      "Modelo 13/18: hidden_dim:1000, reg:0.0, epochs:20\n",
      "\t Accuracy de train: 0.83\n",
      "\t Accuracy de val:   0.553\n",
      "\n",
      "Modelo 14/18: hidden_dim:1000, reg:0.3, epochs:10\n",
      "\t Accuracy de train: 0.596\n",
      "\t Accuracy de val:   0.521\n",
      "\n",
      "Modelo 15/18: hidden_dim:1000, reg:0.3, epochs:20\n",
      "\t Accuracy de train: 0.724\n",
      "\t Accuracy de val:   0.548\n",
      "\n",
      "Modelo 16/18: hidden_dim:1000, reg:0.7, epochs:10\n",
      "\t Accuracy de train: 0.604\n",
      "\t Accuracy de val:   0.508\n",
      "\n",
      "Modelo 17/18: hidden_dim:1000, reg:0.7, epochs:20\n",
      "\t Accuracy de train: 0.664\n",
      "\t Accuracy de val:   0.54\n",
      "\n"
     ]
    }
   ],
   "source": [
    "model = TwoLayerNet()\n",
    "solver = None\n",
    "\n",
    "##############################################################################\n",
    "# TODO: Use a Solver instance to train a TwoLayerNet that achieves at least  #\n",
    "# 50% accuracy on the validation set.                                        #\n",
    "##############################################################################\n",
    "# *****START OF YOUR CODE (DO NOT DELETE/MODIFY THIS LINE)*****\n",
    "\n",
    "best_val = -1\n",
    "\n",
    "# se crea un grid search para encontrar los mejores parametros\n",
    "# hiperparametros de la red: hidden_dim, reg\n",
    "# solver: lr, num_epochs, batch_size\n",
    "# se utilizan menos porque son demasiadas permutaciones\n",
    "\n",
    "hidden_dims = [50, 100, 1000]\n",
    "regs = [0.0, 0.3, 0.7]\n",
    "num_epochs = [10, 20]\n",
    "\n",
    "\n",
    "grid_search = [\n",
    "                [hidden_dim, reg, epochs] for hidden_dim in hidden_dims \\\n",
    "                                          for reg in regs \\\n",
    "                                          for epochs in num_epochs\n",
    "]\n",
    "\n",
    "tot_models = len(grid_search)\n",
    "\n",
    "for model_num, [hidden_dim, reg, epochs] in enumerate(grid_search):\n",
    "    \n",
    "    print(f'Modelo {model_num+1}/{tot_models}: hidden_dim:{hidden_dim}, reg:{reg}, epochs:{epochs}')\n",
    "          \n",
    "    model = TwoLayerNet(hidden_dim=hidden_dim, reg=reg)\n",
    "    \n",
    "    current_solver = Solver(model, data,\n",
    "                            update_rule='sgd',\n",
    "                            optim_config={\n",
    "                              'learning_rate': 1e-3,\n",
    "                            },\n",
    "                            lr_decay=0.95,\n",
    "                            num_epochs=epochs, batch_size=100, \n",
    "                            verbose=False\n",
    "    )\n",
    "    \n",
    "    current_solver.train()\n",
    "    \n",
    "    print(f'\\t Accuracy de train: {current_solver.train_acc_history[-1]}')\n",
    "    print(f'\\t Accuracy de val:   {current_solver.val_acc_history[-1]}')\n",
    "    print()\n",
    "    \n",
    "    if current_solver.val_acc_history[-1] > best_val: \n",
    "        best_val = current_solver.val_acc_history[-1]\n",
    "        solver = current_solver\n",
    "\n",
    "# *****END OF YOUR CODE (DO NOT DELETE/MODIFY THIS LINE)*****\n",
    "##############################################################################\n",
    "#                             END OF YOUR CODE                               #\n",
    "##############################################################################"
   ]
  },
  {
   "cell_type": "code",
   "execution_count": 12,
   "metadata": {},
   "outputs": [],
   "source": [
    "## es la mejor red de las iteraciones previas \n",
    "## (para no correrlo todo devuelta)\n",
    "\n",
    "#hidden_dim:1000, reg:0.0, epochs:20\n",
    "model = TwoLayerNet(hidden_dim=1000, reg=0.0)\n",
    "    \n",
    "solver = Solver(model, data,\n",
    "                        update_rule='sgd',\n",
    "                        optim_config={\n",
    "                          'learning_rate': 1e-3,\n",
    "                        },\n",
    "                        lr_decay=0.95,\n",
    "                        num_epochs=20, batch_size=100, \n",
    "                        verbose=False\n",
    ")\n",
    "\n",
    "solver.train()\n",
    "\n"
   ]
  },
  {
   "cell_type": "code",
   "execution_count": 15,
   "metadata": {
    "id": "-rq7yatTtcmT"
   },
   "outputs": [
    {
     "data": {
      "image/png": "[encoded data removed]",
      "text/plain": [
       "<Figure size 1080x864 with 2 Axes>"
      ]
     },
     "metadata": {
      "needs_background": "light"
     },
     "output_type": "display_data"
    }
   ],
   "source": [
    "# Run this cell to visualize training loss and train / val accuracy\n",
    "\n",
    "plt.subplot(2, 1, 1)\n",
    "plt.title('Training loss')\n",
    "plt.plot(solver.loss_history, 'o')\n",
    "plt.xlabel('Iteration')\n",
    "\n",
    "plt.subplot(2, 1, 2)\n",
    "plt.title('Accuracy')\n",
    "plt.plot(solver.train_acc_history, '-o', label='train')\n",
    "plt.plot(solver.val_acc_history, '-o', label='val')\n",
    "plt.plot([0.5] * len(solver.val_acc_history), 'k--')\n",
    "plt.xlabel('Epoch')\n",
    "plt.legend(loc='lower right')\n",
    "plt.gcf().set_size_inches(15, 12)\n",
    "plt.show()"
   ]
  },
  {
   "cell_type": "markdown",
   "metadata": {
    "id": "ZpolfDmZtcmW"
   },
   "source": [
    "# Multilayer network\n",
    "Next you will implement a fully-connected network with an arbitrary number of hidden layers.\n",
    "\n",
    "Read through the `FullyConnectedNet` class in the file `cs231n/classifiers/fc_net.py`.\n",
    "\n",
    "Implement the initialization, the forward pass, and the backward pass. For the moment don't worry about implementing dropout or batch/layer normalization; we will add those features soon."
   ]
  },
  {
   "cell_type": "markdown",
   "metadata": {
    "id": "ZpPBZSJstcmW"
   },
   "source": [
    "## Initial loss and gradient check\n",
    "\n",
    "As a sanity check, run the following to check the initial loss and to gradient check the network both with and without regularization. Do the initial losses seem reasonable?\n",
    "\n",
    "For gradient checking, you should expect to see errors around 1e-7 or less."
   ]
  },
  {
   "cell_type": "code",
   "execution_count": 14,
   "metadata": {
    "id": "iOUkmVQxtcmW"
   },
   "outputs": [
    {
     "name": "stdout",
     "output_type": "stream",
     "text": [
      "Running check with reg =  0\n",
      "Initial loss:  2.3004790897684924\n",
      "W1 relative error: 1.48e-07\n",
      "W2 relative error: 2.21e-05\n",
      "W3 relative error: 3.53e-07\n",
      "b1 relative error: 5.38e-09\n",
      "b2 relative error: 2.09e-09\n",
      "b3 relative error: 5.80e-11\n",
      "Running check with reg =  3.14\n",
      "Initial loss:  7.052114776533016\n",
      "W1 relative error: 6.86e-09\n",
      "W2 relative error: 3.52e-08\n",
      "W3 relative error: 1.32e-08\n",
      "b1 relative error: 1.48e-08\n",
      "b2 relative error: 1.72e-09\n",
      "b3 relative error: 1.80e-10\n"
     ]
    }
   ],
   "source": [
    "np.random.seed(231)\n",
    "N, D, H1, H2, C = 2, 15, 20, 30, 10\n",
    "X = np.random.randn(N, D)\n",
    "y = np.random.randint(C, size=(N,))\n",
    "\n",
    "for reg in [0, 3.14]:\n",
    "  print('Running check with reg = ', reg)\n",
    "  model = FullyConnectedNet([H1, H2], input_dim=D, num_classes=C,\n",
    "                            reg=reg, weight_scale=5e-2, dtype=np.float64)\n",
    "\n",
    "  loss, grads = model.loss(X, y)\n",
    "  print('Initial loss: ', loss)\n",
    "  \n",
    "  # Most of the errors should be on the order of e-7 or smaller.   \n",
    "  # NOTE: It is fine however to see an error for W2 on the order of e-5\n",
    "  # for the check when reg = 0.0\n",
    "  for name in sorted(grads):\n",
    "    f = lambda _: model.loss(X, y)[0]\n",
    "    grad_num = eval_numerical_gradient(f, model.params[name], verbose=False, h=1e-5)\n",
    "    print('%s relative error: %.2e' % (name, rel_error(grad_num, grads[name])))"
   ]
  },
  {
   "cell_type": "markdown",
   "metadata": {
    "id": "GAkDAeoStcma"
   },
   "source": [
    "As another sanity check, make sure you can overfit a small dataset of 50 images. First we will try a three-layer network with 100 units in each hidden layer. In the following cell, tweak the **learning rate** and **weight initialization scale** to overfit and achieve 100% training accuracy within 20 epochs."
   ]
  },
  {
   "cell_type": "code",
   "execution_count": 29,
   "metadata": {
    "id": "HRwtIsNutcma",
    "scrolled": false
   },
   "outputs": [
    {
     "name": "stdout",
     "output_type": "stream",
     "text": [
      "(Iteration 1 / 40) loss: 67.874782\n",
      "(Epoch 0 / 20) train acc: 0.180000; val_acc: 0.111000\n",
      "(Epoch 1 / 20) train acc: 0.320000; val_acc: 0.129000\n",
      "(Epoch 2 / 20) train acc: 0.400000; val_acc: 0.110000\n",
      "(Epoch 3 / 20) train acc: 0.600000; val_acc: 0.125000\n",
      "(Epoch 4 / 20) train acc: 0.700000; val_acc: 0.111000\n",
      "(Epoch 5 / 20) train acc: 0.840000; val_acc: 0.106000\n",
      "(Iteration 11 / 40) loss: 1.378490\n",
      "(Epoch 6 / 20) train acc: 0.860000; val_acc: 0.115000\n",
      "(Epoch 7 / 20) train acc: 0.960000; val_acc: 0.127000\n",
      "(Epoch 8 / 20) train acc: 0.940000; val_acc: 0.146000\n",
      "(Epoch 9 / 20) train acc: 1.000000; val_acc: 0.139000\n",
      "(Epoch 10 / 20) train acc: 1.000000; val_acc: 0.140000\n",
      "(Iteration 21 / 40) loss: 0.012571\n",
      "(Epoch 11 / 20) train acc: 1.000000; val_acc: 0.136000\n",
      "(Epoch 12 / 20) train acc: 1.000000; val_acc: 0.137000\n",
      "(Epoch 13 / 20) train acc: 1.000000; val_acc: 0.137000\n",
      "(Epoch 14 / 20) train acc: 1.000000; val_acc: 0.139000\n",
      "(Epoch 15 / 20) train acc: 1.000000; val_acc: 0.140000\n",
      "(Iteration 31 / 40) loss: 0.006313\n",
      "(Epoch 16 / 20) train acc: 1.000000; val_acc: 0.140000\n",
      "(Epoch 17 / 20) train acc: 1.000000; val_acc: 0.141000\n",
      "(Epoch 18 / 20) train acc: 1.000000; val_acc: 0.141000\n",
      "(Epoch 19 / 20) train acc: 1.000000; val_acc: 0.142000\n",
      "(Epoch 20 / 20) train acc: 1.000000; val_acc: 0.142000\n"
     ]
    },
    {
     "data": {
      "image/png": "[encoded data removed]",
      "text/plain": [
       "<Figure size 432x288 with 1 Axes>"
      ]
     },
     "metadata": {
      "needs_background": "light"
     },
     "output_type": "display_data"
    }
   ],
   "source": [
    "# TODO: Use a three-layer Net to overfit 50 training examples by \n",
    "# tweaking just the learning rate and initialization scale.\n",
    "\n",
    "num_train = 50\n",
    "small_data = {\n",
    "  'X_train': data['X_train'][:num_train],\n",
    "  'y_train': data['y_train'][:num_train],\n",
    "  'X_val': data['X_val'],\n",
    "  'y_val': data['y_val'],\n",
    "}\n",
    "\n",
    "weight_scale = 6e-2   # Experiment with this!\n",
    "learning_rate = 3e-3  # Experiment with this! 3e-3\n",
    "model = FullyConnectedNet([100, 100],\n",
    "              weight_scale=weight_scale, dtype=np.float64)\n",
    "solver = Solver(model, small_data,\n",
    "                print_every=10, num_epochs=20, batch_size=25,\n",
    "                update_rule='sgd',\n",
    "                optim_config={\n",
    "                  'learning_rate': learning_rate,\n",
    "                }\n",
    "         )\n",
    "solver.train()\n",
    "\n",
    "plt.plot(solver.loss_history, 'o')\n",
    "plt.title('Training loss history')\n",
    "plt.xlabel('Iteration')\n",
    "plt.ylabel('Training loss')\n",
    "plt.show()"
   ]
  },
  {
   "cell_type": "markdown",
   "metadata": {
    "id": "Nka0FcGZtcmd"
   },
   "source": [
    "Now try to use a five-layer network with 100 units on each layer to overfit 50 training examples. Again, you will have to adjust the learning rate and weight initialization scale, but you should be able to achieve 100% training accuracy within 20 epochs."
   ]
  },
  {
   "cell_type": "code",
   "execution_count": 45,
   "metadata": {
    "id": "tkgefCQntcme"
   },
   "outputs": [
    {
     "name": "stdout",
     "output_type": "stream",
     "text": [
      "(Iteration 1 / 40) loss: 44.004907\n",
      "(Epoch 0 / 20) train acc: 0.260000; val_acc: 0.118000\n",
      "(Epoch 1 / 20) train acc: 0.160000; val_acc: 0.073000\n",
      "(Epoch 2 / 20) train acc: 0.120000; val_acc: 0.103000\n",
      "(Epoch 3 / 20) train acc: 0.420000; val_acc: 0.118000\n",
      "(Epoch 4 / 20) train acc: 0.480000; val_acc: 0.106000\n",
      "(Epoch 5 / 20) train acc: 0.700000; val_acc: 0.113000\n",
      "(Iteration 11 / 40) loss: 0.983276\n",
      "(Epoch 6 / 20) train acc: 0.820000; val_acc: 0.120000\n",
      "(Epoch 7 / 20) train acc: 0.940000; val_acc: 0.114000\n",
      "(Epoch 8 / 20) train acc: 0.960000; val_acc: 0.116000\n",
      "(Epoch 9 / 20) train acc: 0.980000; val_acc: 0.115000\n",
      "(Epoch 10 / 20) train acc: 1.000000; val_acc: 0.109000\n",
      "(Iteration 21 / 40) loss: 0.077319\n",
      "(Epoch 11 / 20) train acc: 1.000000; val_acc: 0.114000\n",
      "(Epoch 12 / 20) train acc: 1.000000; val_acc: 0.114000\n",
      "(Epoch 13 / 20) train acc: 1.000000; val_acc: 0.112000\n",
      "(Epoch 14 / 20) train acc: 1.000000; val_acc: 0.112000\n",
      "(Epoch 15 / 20) train acc: 1.000000; val_acc: 0.111000\n",
      "(Iteration 31 / 40) loss: 0.013505\n",
      "(Epoch 16 / 20) train acc: 1.000000; val_acc: 0.111000\n",
      "(Epoch 17 / 20) train acc: 1.000000; val_acc: 0.112000\n",
      "(Epoch 18 / 20) train acc: 1.000000; val_acc: 0.111000\n",
      "(Epoch 19 / 20) train acc: 1.000000; val_acc: 0.111000\n",
      "(Epoch 20 / 20) train acc: 1.000000; val_acc: 0.111000\n"
     ]
    },
    {
     "data": {
      "image/png": "[encoded data removed]",
      "text/plain": [
       "<Figure size 432x288 with 1 Axes>"
      ]
     },
     "metadata": {
      "needs_background": "light"
     },
     "output_type": "display_data"
    }
   ],
   "source": [
    "# TODO: Use a five-layer Net to overfit 50 training examples by \n",
    "# tweaking just the learning rate and initialization scale.\n",
    "\n",
    "num_train = 50\n",
    "small_data = {\n",
    "  'X_train': data['X_train'][:num_train],\n",
    "  'y_train': data['y_train'][:num_train],\n",
    "  'X_val': data['X_val'],\n",
    "  'y_val': data['y_val'],\n",
    "}\n",
    "\n",
    "learning_rate = 6e-3  # Experiment with this!\n",
    "weight_scale = 8e-2   # Experiment with this!\n",
    "model = FullyConnectedNet([100, 100, 100, 100],\n",
    "                weight_scale=weight_scale, dtype=np.float64)\n",
    "solver = Solver(model, small_data,\n",
    "                print_every=10, num_epochs=20, batch_size=25,\n",
    "                update_rule='sgd',\n",
    "                optim_config={\n",
    "                  'learning_rate': learning_rate,\n",
    "                }\n",
    "         )\n",
    "solver.train()\n",
    "\n",
    "plt.plot(solver.loss_history, 'o')\n",
    "plt.title('Training loss history')\n",
    "plt.xlabel('Iteration')\n",
    "plt.ylabel('Training loss')\n",
    "plt.show()"
   ]
  },
  {
   "cell_type": "markdown",
   "metadata": {
    "id": "FyHMx3Uytcmg",
    "tags": [
     "pdf-inline"
    ]
   },
   "source": [
    "## Inline Question 3: \n",
    "Did you notice anything about the comparative difficulty of training the three-layer net vs training the five layer net? In particular, based on your experience, which network seemed more sensitive to the initialization scale? Why do you think that is the case?\n",
    "\n",
    "## Answer:\n",
    "La red de 5 capas es mucho mas sensible a cambios en la inicializacion de los pesos. Debido a que la red es mas profunda, al momento de la backprop esto se traduce que si los pesos se inicializan pequeños el gradiente es mas propenso a desvanecerse y si se inicializan grandes sucede el problema de exploding gradient."
   ]
  },
  {
   "cell_type": "markdown",
   "metadata": {
    "id": "J-vIt4z3tcmg"
   },
   "source": [
    "# Update rules\n",
    "So far we have used vanilla stochastic gradient descent (SGD) as our update rule. More sophisticated update rules can make it easier to train deep networks. We will implement a few of the most commonly used update rules and compare them to vanilla SGD."
   ]
  },
  {
   "cell_type": "markdown",
   "metadata": {
    "id": "-geMW86jtcmh"
   },
   "source": [
    "# SGD+Momentum\n",
    "Stochastic gradient descent with momentum is a widely used update rule that tends to make deep networks converge faster than vanilla stochastic gradient descent. See the Momentum Update section at http://cs231n.github.io/neural-networks-3/#sgd for more information.\n",
    "\n",
    "Open the file `cs231n/optim.py` and read the documentation at the top of the file to make sure you understand the API. Implement the SGD+momentum update rule in the function `sgd_momentum` and run the following to check your implementation. You should see errors less than e-8."
   ]
  },
  {
   "cell_type": "code",
   "execution_count": 46,
   "metadata": {
    "id": "inplasWYtcmh"
   },
   "outputs": [
    {
     "name": "stdout",
     "output_type": "stream",
     "text": [
      "next_w error:  8.882347033505819e-09\n",
      "velocity error:  4.269287743278663e-09\n"
     ]
    }
   ],
   "source": [
    "from cs231n.optim import sgd_momentum\n",
    "\n",
    "N, D = 4, 5\n",
    "w = np.linspace(-0.4, 0.6, num=N*D).reshape(N, D)\n",
    "dw = np.linspace(-0.6, 0.4, num=N*D).reshape(N, D)\n",
    "v = np.linspace(0.6, 0.9, num=N*D).reshape(N, D)\n",
    "\n",
    "config = {'learning_rate': 1e-3, 'velocity': v}\n",
    "next_w, _ = sgd_momentum(w, dw, config=config)\n",
    "\n",
    "expected_next_w = np.asarray([\n",
    "  [ 0.1406,      0.20738947,  0.27417895,  0.34096842,  0.40775789],\n",
    "  [ 0.47454737,  0.54133684,  0.60812632,  0.67491579,  0.74170526],\n",
    "  [ 0.80849474,  0.87528421,  0.94207368,  1.00886316,  1.07565263],\n",
    "  [ 1.14244211,  1.20923158,  1.27602105,  1.34281053,  1.4096    ]])\n",
    "expected_velocity = np.asarray([\n",
    "  [ 0.5406,      0.55475789,  0.56891579, 0.58307368,  0.59723158],\n",
    "  [ 0.61138947,  0.62554737,  0.63970526,  0.65386316,  0.66802105],\n",
    "  [ 0.68217895,  0.69633684,  0.71049474,  0.72465263,  0.73881053],\n",
    "  [ 0.75296842,  0.76712632,  0.78128421,  0.79544211,  0.8096    ]])\n",
    "\n",
    "# Should see relative errors around e-8 or less\n",
    "print('next_w error: ', rel_error(next_w, expected_next_w))\n",
    "print('velocity error: ', rel_error(expected_velocity, config['velocity']))"
   ]
  },
  {
   "cell_type": "markdown",
   "metadata": {
    "id": "6owvztuMtcmj"
   },
   "source": [
    "Once you have done so, run the following to train a six-layer network with both SGD and SGD+momentum. You should see the SGD+momentum update rule converge faster."
   ]
  },
  {
   "cell_type": "code",
   "execution_count": 3,
   "metadata": {
    "id": "jq7mycDVtcmk",
    "scrolled": false
   },
   "outputs": [
    {
     "name": "stdout",
     "output_type": "stream",
     "text": [
      "running with  sgd\n",
      "(Iteration 1 / 200) loss: 3.338151\n",
      "(Epoch 0 / 5) train acc: 0.125000; val_acc: 0.080000\n",
      "(Iteration 11 / 200) loss: 2.277109\n",
      "(Iteration 21 / 200) loss: 2.232776\n",
      "(Iteration 31 / 200) loss: 2.137774\n",
      "(Epoch 1 / 5) train acc: 0.232000; val_acc: 0.178000\n",
      "(Iteration 41 / 200) loss: 2.193334\n",
      "(Iteration 51 / 200) loss: 2.087827\n",
      "(Iteration 61 / 200) loss: 1.916114\n",
      "(Iteration 71 / 200) loss: 2.052659\n",
      "(Epoch 2 / 5) train acc: 0.294000; val_acc: 0.218000\n",
      "(Iteration 81 / 200) loss: 2.048033\n",
      "(Iteration 91 / 200) loss: 2.079691\n",
      "(Iteration 101 / 200) loss: 1.984651\n",
      "(Iteration 111 / 200) loss: 2.045913\n",
      "(Epoch 3 / 5) train acc: 0.326000; val_acc: 0.257000\n",
      "(Iteration 121 / 200) loss: 1.866796\n",
      "(Iteration 131 / 200) loss: 2.048681\n",
      "(Iteration 141 / 200) loss: 1.866799\n",
      "(Iteration 151 / 200) loss: 1.872419\n",
      "(Epoch 4 / 5) train acc: 0.328000; val_acc: 0.287000\n",
      "(Iteration 161 / 200) loss: 1.872737\n",
      "(Iteration 171 / 200) loss: 1.895952\n",
      "(Iteration 181 / 200) loss: 1.721862\n",
      "(Iteration 191 / 200) loss: 1.776298\n",
      "(Epoch 5 / 5) train acc: 0.357000; val_acc: 0.287000\n",
      "\n",
      "running with  sgd_momentum\n",
      "(Iteration 1 / 200) loss: 3.018848\n",
      "(Epoch 0 / 5) train acc: 0.098000; val_acc: 0.087000\n",
      "(Iteration 11 / 200) loss: 2.361994\n",
      "(Iteration 21 / 200) loss: 2.178657\n",
      "(Iteration 31 / 200) loss: 1.992163\n",
      "(Epoch 1 / 5) train acc: 0.300000; val_acc: 0.243000\n",
      "(Iteration 41 / 200) loss: 2.197332\n",
      "(Iteration 51 / 200) loss: 1.850160\n",
      "(Iteration 61 / 200) loss: 1.832257\n",
      "(Iteration 71 / 200) loss: 1.763381\n",
      "(Epoch 2 / 5) train acc: 0.334000; val_acc: 0.336000\n",
      "(Iteration 81 / 200) loss: 1.701985\n",
      "(Iteration 91 / 200) loss: 1.713463\n",
      "(Iteration 101 / 200) loss: 1.813806\n",
      "(Iteration 111 / 200) loss: 1.637204\n",
      "(Epoch 3 / 5) train acc: 0.381000; val_acc: 0.319000\n",
      "(Iteration 121 / 200) loss: 1.488669\n",
      "(Iteration 131 / 200) loss: 1.682097\n",
      "(Iteration 141 / 200) loss: 1.698586\n",
      "(Iteration 151 / 200) loss: 1.440574\n",
      "(Epoch 4 / 5) train acc: 0.469000; val_acc: 0.352000\n",
      "(Iteration 161 / 200) loss: 1.535545\n",
      "(Iteration 171 / 200) loss: 1.381453\n",
      "(Iteration 181 / 200) loss: 1.393360\n",
      "(Iteration 191 / 200) loss: 1.320466\n",
      "(Epoch 5 / 5) train acc: 0.493000; val_acc: 0.350000\n",
      "\n"
     ]
    },
    {
     "name": "stderr",
     "output_type": "stream",
     "text": [
      "<ipython-input-3-a73acf083950>:39: MatplotlibDeprecationWarning: Adding an axes using the same arguments as a previous axes currently reuses the earlier instance.  In a future version, a new instance will always be created and returned.  Meanwhile, this warning can be suppressed, and the future behavior ensured, by passing a unique label to each axes instance.\n",
      "  plt.subplot(3, 1, 1)\n",
      "<ipython-input-3-a73acf083950>:42: MatplotlibDeprecationWarning: Adding an axes using the same arguments as a previous axes currently reuses the earlier instance.  In a future version, a new instance will always be created and returned.  Meanwhile, this warning can be suppressed, and the future behavior ensured, by passing a unique label to each axes instance.\n",
      "  plt.subplot(3, 1, 2)\n",
      "<ipython-input-3-a73acf083950>:45: MatplotlibDeprecationWarning: Adding an axes using the same arguments as a previous axes currently reuses the earlier instance.  In a future version, a new instance will always be created and returned.  Meanwhile, this warning can be suppressed, and the future behavior ensured, by passing a unique label to each axes instance.\n",
      "  plt.subplot(3, 1, 3)\n",
      "<ipython-input-3-a73acf083950>:49: MatplotlibDeprecationWarning: Adding an axes using the same arguments as a previous axes currently reuses the earlier instance.  In a future version, a new instance will always be created and returned.  Meanwhile, this warning can be suppressed, and the future behavior ensured, by passing a unique label to each axes instance.\n",
      "  plt.subplot(3, 1, i)\n"
     ]
    },
    {
     "data": {
      "image/png": "[encoded data removed]",
      "text/plain": [
       "<Figure size 1080x1080 with 3 Axes>"
      ]
     },
     "metadata": {
      "needs_background": "light"
     },
     "output_type": "display_data"
    }
   ],
   "source": [
    "num_train = 4000\n",
    "small_data = {\n",
    "  'X_train': data['X_train'][:num_train],\n",
    "  'y_train': data['y_train'][:num_train],\n",
    "  'X_val': data['X_val'],\n",
    "  'y_val': data['y_val'],\n",
    "}\n",
    "\n",
    "solvers = {}\n",
    "\n",
    "for update_rule in ['sgd', 'sgd_momentum']:\n",
    "  print('running with ', update_rule)\n",
    "  model = FullyConnectedNet([100, 100, 100, 100, 100], weight_scale=5e-2)\n",
    "\n",
    "  solver = Solver(model, small_data,\n",
    "                  num_epochs=5, batch_size=100,\n",
    "                  update_rule=update_rule,\n",
    "                  optim_config={\n",
    "                    'learning_rate': 5e-3,\n",
    "                  },\n",
    "                  verbose=True)\n",
    "  solvers[update_rule] = solver\n",
    "  solver.train()\n",
    "  print()\n",
    "\n",
    "plt.subplot(3, 1, 1)\n",
    "plt.title('Training loss')\n",
    "plt.xlabel('Iteration')\n",
    "\n",
    "plt.subplot(3, 1, 2)\n",
    "plt.title('Training accuracy')\n",
    "plt.xlabel('Epoch')\n",
    "\n",
    "plt.subplot(3, 1, 3)\n",
    "plt.title('Validation accuracy')\n",
    "plt.xlabel('Epoch')\n",
    "\n",
    "for update_rule, solver in solvers.items():\n",
    "  plt.subplot(3, 1, 1)\n",
    "  plt.plot(solver.loss_history, 'o', label=\"loss_%s\" % update_rule)\n",
    "  \n",
    "  plt.subplot(3, 1, 2)\n",
    "  plt.plot(solver.train_acc_history, '-o', label=\"train_acc_%s\" % update_rule)\n",
    "\n",
    "  plt.subplot(3, 1, 3)\n",
    "  plt.plot(solver.val_acc_history, '-o', label=\"val_acc_%s\" % update_rule)\n",
    "  \n",
    "for i in [1, 2, 3]:\n",
    "  plt.subplot(3, 1, i)\n",
    "  plt.legend(loc='upper center', ncol=4)\n",
    "plt.gcf().set_size_inches(15, 15)\n",
    "plt.show()"
   ]
  },
  {
   "cell_type": "markdown",
   "metadata": {
    "id": "-VIDJ98rtcmm"
   },
   "source": [
    "# RMSProp and Adam\n",
    "RMSProp [1] and Adam [2] are update rules that set per-parameter learning rates by using a running average of the second moments of gradients.\n",
    "\n",
    "In the file `cs231n/optim.py`, implement the RMSProp update rule in the `rmsprop` function and implement the Adam update rule in the `adam` function, and check your implementations using the tests below.\n",
    "\n",
    "**NOTE:** Please implement the _complete_ Adam update rule (with the bias correction mechanism), not the first simplified version mentioned in the course notes. \n",
    "\n",
    "[1] Tijmen Tieleman and Geoffrey Hinton. \"Lecture 6.5-rmsprop: Divide the gradient by a running average of its recent magnitude.\" COURSERA: Neural Networks for Machine Learning 4 (2012).\n",
    "\n",
    "[2] Diederik Kingma and Jimmy Ba, \"Adam: A Method for Stochastic Optimization\", ICLR 2015."
   ]
  },
  {
   "cell_type": "code",
   "execution_count": 4,
   "metadata": {
    "id": "L4M1WzoCtcmn"
   },
   "outputs": [
    {
     "name": "stdout",
     "output_type": "stream",
     "text": [
      "next_w error:  9.524687511038133e-08\n",
      "cache error:  2.6477955807156126e-09\n"
     ]
    }
   ],
   "source": [
    "# Test RMSProp implementation\n",
    "from cs231n.optim import rmsprop\n",
    "\n",
    "N, D = 4, 5\n",
    "w = np.linspace(-0.4, 0.6, num=N*D).reshape(N, D)\n",
    "dw = np.linspace(-0.6, 0.4, num=N*D).reshape(N, D)\n",
    "cache = np.linspace(0.6, 0.9, num=N*D).reshape(N, D)\n",
    "\n",
    "config = {'learning_rate': 1e-2, 'cache': cache}\n",
    "next_w, _ = rmsprop(w, dw, config=config)\n",
    "\n",
    "expected_next_w = np.asarray([\n",
    "  [-0.39223849, -0.34037513, -0.28849239, -0.23659121, -0.18467247],\n",
    "  [-0.132737,   -0.08078555, -0.02881884,  0.02316247,  0.07515774],\n",
    "  [ 0.12716641,  0.17918792,  0.23122175,  0.28326742,  0.33532447],\n",
    "  [ 0.38739248,  0.43947102,  0.49155973,  0.54365823,  0.59576619]])\n",
    "expected_cache = np.asarray([\n",
    "  [ 0.5976,      0.6126277,   0.6277108,   0.64284931,  0.65804321],\n",
    "  [ 0.67329252,  0.68859723,  0.70395734,  0.71937285,  0.73484377],\n",
    "  [ 0.75037008,  0.7659518,   0.78158892,  0.79728144,  0.81302936],\n",
    "  [ 0.82883269,  0.84469141,  0.86060554,  0.87657507,  0.8926    ]])\n",
    "\n",
    "# You should see relative errors around e-7 or less\n",
    "print('next_w error: ', rel_error(expected_next_w, next_w))\n",
    "print('cache error: ', rel_error(expected_cache, config['cache']))"
   ]
  },
  {
   "cell_type": "code",
   "execution_count": 7,
   "metadata": {
    "id": "EDjXccrWtcmp"
   },
   "outputs": [
    {
     "name": "stdout",
     "output_type": "stream",
     "text": [
      "next_w error:  1.1395691798535431e-07\n",
      "v error:  4.208314038113071e-09\n",
      "m error:  4.214963193114416e-09\n"
     ]
    }
   ],
   "source": [
    "# Test Adam implementation\n",
    "from cs231n.optim import adam\n",
    "\n",
    "N, D = 4, 5\n",
    "w = np.linspace(-0.4, 0.6, num=N*D).reshape(N, D)\n",
    "dw = np.linspace(-0.6, 0.4, num=N*D).reshape(N, D)\n",
    "m = np.linspace(0.6, 0.9, num=N*D).reshape(N, D)\n",
    "v = np.linspace(0.7, 0.5, num=N*D).reshape(N, D)\n",
    "\n",
    "config = {'learning_rate': 1e-2, 'm': m, 'v': v, 't': 5}\n",
    "next_w, _ = adam(w, dw, config=config)\n",
    "\n",
    "expected_next_w = np.asarray([\n",
    "  [-0.40094747, -0.34836187, -0.29577703, -0.24319299, -0.19060977],\n",
    "  [-0.1380274,  -0.08544591, -0.03286534,  0.01971428,  0.0722929],\n",
    "  [ 0.1248705,   0.17744702,  0.23002243,  0.28259667,  0.33516969],\n",
    "  [ 0.38774145,  0.44031188,  0.49288093,  0.54544852,  0.59801459]])\n",
    "expected_v = np.asarray([\n",
    "  [ 0.69966,     0.68908382,  0.67851319,  0.66794809,  0.65738853,],\n",
    "  [ 0.64683452,  0.63628604,  0.6257431,   0.61520571,  0.60467385,],\n",
    "  [ 0.59414753,  0.58362676,  0.57311152,  0.56260183,  0.55209767,],\n",
    "  [ 0.54159906,  0.53110598,  0.52061845,  0.51013645,  0.49966,   ]])\n",
    "expected_m = np.asarray([\n",
    "  [ 0.48,        0.49947368,  0.51894737,  0.53842105,  0.55789474],\n",
    "  [ 0.57736842,  0.59684211,  0.61631579,  0.63578947,  0.65526316],\n",
    "  [ 0.67473684,  0.69421053,  0.71368421,  0.73315789,  0.75263158],\n",
    "  [ 0.77210526,  0.79157895,  0.81105263,  0.83052632,  0.85      ]])\n",
    "\n",
    "# You should see relative errors around e-7 or less\n",
    "print('next_w error: ', rel_error(expected_next_w, next_w))\n",
    "print('v error: ', rel_error(expected_v, config['v']))\n",
    "print('m error: ', rel_error(expected_m, config['m']))"
   ]
  },
  {
   "cell_type": "markdown",
   "metadata": {
    "id": "jCitBEUgtcmq"
   },
   "source": [
    "Once you have debugged your RMSProp and Adam implementations, run the following to train a pair of deep networks using these new update rules:"
   ]
  },
  {
   "cell_type": "code",
   "execution_count": 8,
   "metadata": {
    "id": "LKlP2Vhhtcmr",
    "scrolled": false
   },
   "outputs": [
    {
     "name": "stdout",
     "output_type": "stream",
     "text": [
      "running with  adam\n",
      "(Iteration 1 / 200) loss: 2.762684\n",
      "(Epoch 0 / 5) train acc: 0.118000; val_acc: 0.139000\n",
      "(Iteration 11 / 200) loss: 2.138054\n",
      "(Iteration 21 / 200) loss: 1.903291\n",
      "(Iteration 31 / 200) loss: 2.044953\n",
      "(Epoch 1 / 5) train acc: 0.364000; val_acc: 0.307000\n",
      "(Iteration 41 / 200) loss: 1.806631\n",
      "(Iteration 51 / 200) loss: 1.714166\n",
      "(Iteration 61 / 200) loss: 1.760334\n",
      "(Iteration 71 / 200) loss: 1.564448\n",
      "(Epoch 2 / 5) train acc: 0.470000; val_acc: 0.353000\n",
      "(Iteration 81 / 200) loss: 1.725865\n",
      "(Iteration 91 / 200) loss: 1.388577\n",
      "(Iteration 101 / 200) loss: 1.146953\n",
      "(Iteration 111 / 200) loss: 1.428535\n",
      "(Epoch 3 / 5) train acc: 0.512000; val_acc: 0.332000\n",
      "(Iteration 121 / 200) loss: 1.545498\n",
      "(Iteration 131 / 200) loss: 1.296017\n",
      "(Iteration 141 / 200) loss: 1.375232\n",
      "(Iteration 151 / 200) loss: 1.305513\n",
      "(Epoch 4 / 5) train acc: 0.554000; val_acc: 0.355000\n",
      "(Iteration 161 / 200) loss: 1.343155\n",
      "(Iteration 171 / 200) loss: 1.454223\n",
      "(Iteration 181 / 200) loss: 1.352326\n",
      "(Iteration 191 / 200) loss: 1.248601\n",
      "(Epoch 5 / 5) train acc: 0.601000; val_acc: 0.388000\n",
      "\n",
      "running with  rmsprop\n",
      "(Iteration 1 / 200) loss: 3.239672\n",
      "(Epoch 0 / 5) train acc: 0.128000; val_acc: 0.138000\n",
      "(Iteration 11 / 200) loss: 2.003679\n",
      "(Iteration 21 / 200) loss: 2.049965\n",
      "(Iteration 31 / 200) loss: 1.856270\n",
      "(Epoch 1 / 5) train acc: 0.348000; val_acc: 0.312000\n",
      "(Iteration 41 / 200) loss: 1.900626\n",
      "(Iteration 51 / 200) loss: 1.794219\n",
      "(Iteration 61 / 200) loss: 1.677933\n",
      "(Iteration 71 / 200) loss: 1.708396\n",
      "(Epoch 2 / 5) train acc: 0.403000; val_acc: 0.343000\n",
      "(Iteration 81 / 200) loss: 1.642255\n",
      "(Iteration 91 / 200) loss: 1.528696\n",
      "(Iteration 101 / 200) loss: 1.640141\n",
      "(Iteration 111 / 200) loss: 1.435958\n",
      "(Epoch 3 / 5) train acc: 0.482000; val_acc: 0.346000\n",
      "(Iteration 121 / 200) loss: 1.399696\n",
      "(Iteration 131 / 200) loss: 1.460021\n",
      "(Iteration 141 / 200) loss: 1.558637\n",
      "(Iteration 151 / 200) loss: 1.398124\n",
      "(Epoch 4 / 5) train acc: 0.479000; val_acc: 0.357000\n",
      "(Iteration 161 / 200) loss: 1.626267\n",
      "(Iteration 171 / 200) loss: 1.521907\n",
      "(Iteration 181 / 200) loss: 1.486809\n",
      "(Iteration 191 / 200) loss: 1.411810\n",
      "(Epoch 5 / 5) train acc: 0.505000; val_acc: 0.347000\n",
      "\n"
     ]
    },
    {
     "name": "stderr",
     "output_type": "stream",
     "text": [
      "<ipython-input-8-c31f2247ce3b>:30: MatplotlibDeprecationWarning: Adding an axes using the same arguments as a previous axes currently reuses the earlier instance.  In a future version, a new instance will always be created and returned.  Meanwhile, this warning can be suppressed, and the future behavior ensured, by passing a unique label to each axes instance.\n",
      "  plt.subplot(3, 1, 1)\n",
      "<ipython-input-8-c31f2247ce3b>:33: MatplotlibDeprecationWarning: Adding an axes using the same arguments as a previous axes currently reuses the earlier instance.  In a future version, a new instance will always be created and returned.  Meanwhile, this warning can be suppressed, and the future behavior ensured, by passing a unique label to each axes instance.\n",
      "  plt.subplot(3, 1, 2)\n",
      "<ipython-input-8-c31f2247ce3b>:36: MatplotlibDeprecationWarning: Adding an axes using the same arguments as a previous axes currently reuses the earlier instance.  In a future version, a new instance will always be created and returned.  Meanwhile, this warning can be suppressed, and the future behavior ensured, by passing a unique label to each axes instance.\n",
      "  plt.subplot(3, 1, 3)\n",
      "<ipython-input-8-c31f2247ce3b>:40: MatplotlibDeprecationWarning: Adding an axes using the same arguments as a previous axes currently reuses the earlier instance.  In a future version, a new instance will always be created and returned.  Meanwhile, this warning can be suppressed, and the future behavior ensured, by passing a unique label to each axes instance.\n",
      "  plt.subplot(3, 1, i)\n"
     ]
    },
    {
     "data": {
      "image/png": "[encoded data removed]",
      "text/plain": [
       "<Figure size 1080x1080 with 3 Axes>"
      ]
     },
     "metadata": {
      "needs_background": "light"
     },
     "output_type": "display_data"
    }
   ],
   "source": [
    "learning_rates = {'rmsprop': 1e-4, 'adam': 1e-3}\n",
    "for update_rule in ['adam', 'rmsprop']:\n",
    "  print('running with ', update_rule)\n",
    "  model = FullyConnectedNet([100, 100, 100, 100, 100], weight_scale=5e-2)\n",
    "\n",
    "  solver = Solver(model, small_data,\n",
    "                  num_epochs=5, batch_size=100,\n",
    "                  update_rule=update_rule,\n",
    "                  optim_config={\n",
    "                    'learning_rate': learning_rates[update_rule]\n",
    "                  },\n",
    "                  verbose=True)\n",
    "  solvers[update_rule] = solver\n",
    "  solver.train()\n",
    "  print()\n",
    "\n",
    "plt.subplot(3, 1, 1)\n",
    "plt.title('Training loss')\n",
    "plt.xlabel('Iteration')\n",
    "\n",
    "plt.subplot(3, 1, 2)\n",
    "plt.title('Training accuracy')\n",
    "plt.xlabel('Epoch')\n",
    "\n",
    "plt.subplot(3, 1, 3)\n",
    "plt.title('Validation accuracy')\n",
    "plt.xlabel('Epoch')\n",
    "\n",
    "for update_rule, solver in list(solvers.items()):\n",
    "  plt.subplot(3, 1, 1)\n",
    "  plt.plot(solver.loss_history, 'o', label=update_rule)\n",
    "  \n",
    "  plt.subplot(3, 1, 2)\n",
    "  plt.plot(solver.train_acc_history, '-o', label=update_rule)\n",
    "\n",
    "  plt.subplot(3, 1, 3)\n",
    "  plt.plot(solver.val_acc_history, '-o', label=update_rule)\n",
    "  \n",
    "for i in [1, 2, 3]:\n",
    "  plt.subplot(3, 1, i)\n",
    "  plt.legend(loc='upper center', ncol=4)\n",
    "plt.gcf().set_size_inches(15, 15)\n",
    "plt.show()"
   ]
  },
  {
   "cell_type": "markdown",
   "metadata": {
    "id": "W4p3Lpz4tcmt",
    "tags": [
     "pdf-inline"
    ]
   },
   "source": [
    "## Inline Question 4:\n",
    "\n",
    "AdaGrad, like RMSprop and Adam, is a per-parameter optimization method that uses the following update rule:\n",
    "\n",
    "```\n",
    "cache += dw**2\n",
    "w += - learning_rate * dw / (np.sqrt(cache) + eps)\n",
    "```\n",
    "\n",
    "John notices that when he was training a network with AdaGrad that the updates became very small, and that his network was learning slowly. Using your knowledge of the AdaGrad update rule, why do you think the updates would become very small? Would RMSprop have the same issue? What about Adam? Justify.\n",
    "\n",
    "\n",
    "## Answer: \n",
    "\n",
    "El problema con Adagrad es que se acumulan los terminos al cuadrado del gradiente en el denominador de lr adaptativo. De otra forma, como cada termino (dw^2) es acumulado de forma positiva, la suma continua creciendo provocando que el learning rate decrezca y eventualmente se vuelva muy pequeño, provocando que la red deje de aprender. \n",
    "Con RMSprop esto se soluciona con el paramentro de decay rate. Esto provoca un olvido exponencial de los gradientes más antiguos permitiendole a la red seguir aprendiendo.\n",
    "A ADAM tampoco le sucede ya que implementa en su segundo momento lo mismo que RMSprop, además de mantener un momento de inercia al igual que SGD+Momentum"
   ]
  },
  {
   "cell_type": "markdown",
   "metadata": {
    "id": "DOqIxvpLtcmt"
   },
   "source": [
    "# Train a good model!\n",
    "Train the best fully-connected model that you can on CIFAR-10, storing your best model in the `best_model` variable. We require you to get at least 50% accuracy on the validation set using a fully-connected net.\n",
    "\n",
    "If you are careful it should be possible to get accuracies above 55%, but we don't require it for this part and won't assign extra credit for doing so. Later in the assignment we will ask you to train the best convolutional network that you can on CIFAR-10, and we would prefer that you spend your effort working on convolutional nets rather than fully-connected nets.\n",
    "\n",
    "You might find it useful to complete the `BatchNormalization.ipynb` and `Dropout.ipynb` notebooks before completing this part, since those techniques can help you train powerful models."
   ]
  },
  {
   "cell_type": "code",
   "execution_count": 15,
   "metadata": {
    "id": "Bz1fjTUBtcmu",
    "scrolled": false
   },
   "outputs": [
    {
     "name": "stdout",
     "output_type": "stream",
     "text": [
      "Modelo 1/24: dropout:1 , BN:False, reg:0.0, epochs:5\n",
      "\t Accuracy de train: 0.464\n",
      "\t Accuracy de val:   0.478\n",
      "\n",
      "Modelo 2/24: dropout:1 , BN:False, reg:0.0, epochs:10\n",
      "\t Accuracy de train: 0.462\n",
      "\t Accuracy de val:   0.445\n",
      "\n",
      "Modelo 3/24: dropout:1 , BN:False, reg:0.01, epochs:5\n",
      "\t Accuracy de train: 0.467\n",
      "\t Accuracy de val:   0.475\n",
      "\n",
      "Modelo 4/24: dropout:1 , BN:False, reg:0.01, epochs:10\n",
      "\t Accuracy de train: 0.466\n",
      "\t Accuracy de val:   0.468\n",
      "\n",
      "Modelo 5/24: dropout:1 , BN:True, reg:0.0, epochs:5\n",
      "\t Accuracy de train: 0.486\n",
      "\t Accuracy de val:   0.471\n",
      "\n",
      "Modelo 6/24: dropout:1 , BN:True, reg:0.0, epochs:10\n",
      "\t Accuracy de train: 0.487\n",
      "\t Accuracy de val:   0.492\n",
      "\n",
      "Modelo 7/24: dropout:1 , BN:True, reg:0.01, epochs:5\n",
      "\t Accuracy de train: 0.476\n",
      "\t Accuracy de val:   0.47\n",
      "\n",
      "Modelo 8/24: dropout:1 , BN:True, reg:0.01, epochs:10\n",
      "\t Accuracy de train: 0.494\n",
      "\t Accuracy de val:   0.473\n",
      "\n",
      "Modelo 9/24: dropout:0.75 , BN:False, reg:0.0, epochs:5\n",
      "\t Accuracy de train: 0.463\n",
      "\t Accuracy de val:   0.444\n",
      "\n",
      "Modelo 10/24: dropout:0.75 , BN:False, reg:0.0, epochs:10\n",
      "\t Accuracy de train: 0.482\n",
      "\t Accuracy de val:   0.48\n",
      "\n",
      "Modelo 11/24: dropout:0.75 , BN:False, reg:0.01, epochs:5\n",
      "\t Accuracy de train: 0.466\n",
      "\t Accuracy de val:   0.462\n",
      "\n",
      "Modelo 12/24: dropout:0.75 , BN:False, reg:0.01, epochs:10\n",
      "\t Accuracy de train: 0.485\n",
      "\t Accuracy de val:   0.477\n",
      "\n",
      "Modelo 13/24: dropout:0.75 , BN:True, reg:0.0, epochs:5\n",
      "\t Accuracy de train: 0.456\n",
      "\t Accuracy de val:   0.471\n",
      "\n",
      "Modelo 14/24: dropout:0.75 , BN:True, reg:0.0, epochs:10\n",
      "\t Accuracy de train: 0.49\n",
      "\t Accuracy de val:   0.479\n",
      "\n",
      "Modelo 15/24: dropout:0.75 , BN:True, reg:0.01, epochs:5\n",
      "\t Accuracy de train: 0.468\n",
      "\t Accuracy de val:   0.468\n",
      "\n",
      "Modelo 16/24: dropout:0.75 , BN:True, reg:0.01, epochs:10\n",
      "\t Accuracy de train: 0.451\n",
      "\t Accuracy de val:   0.49\n",
      "\n",
      "Modelo 17/24: dropout:0.5 , BN:False, reg:0.0, epochs:5\n",
      "\t Accuracy de train: 0.447\n",
      "\t Accuracy de val:   0.467\n",
      "\n",
      "Modelo 18/24: dropout:0.5 , BN:False, reg:0.0, epochs:10\n",
      "\t Accuracy de train: 0.497\n",
      "\t Accuracy de val:   0.477\n",
      "\n",
      "Modelo 19/24: dropout:0.5 , BN:False, reg:0.01, epochs:5\n",
      "\t Accuracy de train: 0.449\n",
      "\t Accuracy de val:   0.444\n",
      "\n",
      "Modelo 20/24: dropout:0.5 , BN:False, reg:0.01, epochs:10\n",
      "\t Accuracy de train: 0.465\n",
      "\t Accuracy de val:   0.481\n",
      "\n",
      "Modelo 21/24: dropout:0.5 , BN:True, reg:0.0, epochs:5\n",
      "\t Accuracy de train: 0.457\n",
      "\t Accuracy de val:   0.469\n",
      "\n",
      "Modelo 22/24: dropout:0.5 , BN:True, reg:0.0, epochs:10\n",
      "\t Accuracy de train: 0.484\n",
      "\t Accuracy de val:   0.479\n",
      "\n",
      "Modelo 23/24: dropout:0.5 , BN:True, reg:0.01, epochs:5\n",
      "\t Accuracy de train: 0.451\n",
      "\t Accuracy de val:   0.458\n",
      "\n",
      "Modelo 24/24: dropout:0.5 , BN:True, reg:0.01, epochs:10\n",
      "\t Accuracy de train: 0.464\n",
      "\t Accuracy de val:   0.493\n",
      "\n",
      "Tiempo de ejecucion:  1804.602014541626\n"
     ]
    }
   ],
   "source": [
    "best_model = None\n",
    "################################################################################\n",
    "# TODO: Train the best FullyConnectedNet that you can on CIFAR-10. You might   #\n",
    "# find batch/layer normalization and dropout useful. Store your best model in  #\n",
    "# the best_model variable.                                                     #\n",
    "################################################################################\n",
    "# *****START OF YOUR CODE (DO NOT DELETE/MODIFY THIS LINE)*****\n",
    "\n",
    "import time\n",
    "\n",
    "\n",
    "\n",
    "best_val = -1\n",
    "\n",
    "# hyperparámetros:\n",
    "dropouts = [1, 0.75, 0.50]\n",
    "normalizations = [None, 'batchnorm']\n",
    "regs = [0.0, 0.01]\n",
    "epochs = [5, 10]\n",
    "\n",
    "\n",
    "grid_search = [[dropout, norm, reg, epoch] \n",
    "                                for dropout in dropouts \\\n",
    "                                for norm in normalizations \\\n",
    "                                for reg in regs \\\n",
    "                                for epoch in epochs\n",
    "]\n",
    "\n",
    "tot_models = len(grid_search)\n",
    "\n",
    "start_time = time.time()\n",
    "for model_num,[dropout, norm, reg, epoch] in enumerate(grid_search):\n",
    "    \n",
    "    print(f'Modelo {model_num+1}/{tot_models}: dropout:{dropout} , BN:{norm!=None}, reg:{reg}, epochs:{epoch}')\n",
    "\n",
    "    current_model = FullyConnectedNet(hidden_dims = [100, 100, 100],\n",
    "                                      dropout = dropout,\n",
    "                                      normalization = norm,\n",
    "                                      weight_scale = 5e-2,\n",
    "                                      reg = reg\n",
    "                                     )\n",
    "    \n",
    "    current_solver = Solver(model, data,         # mandatory\n",
    "                            update_rule='adam', \n",
    "                            optim_config={\n",
    "                              'learning_rate': 1e-3,\n",
    "                            },\n",
    "                            lr_decay=0.95,\n",
    "                            num_epochs=epoch,\n",
    "                            batch_size=100, \n",
    "                            verbose=False\n",
    "                            )\n",
    "    \n",
    "    current_solver.train()\n",
    "\n",
    "    print(f'\\t Accuracy de train: {current_solver.train_acc_history[-1]}')\n",
    "    print(f'\\t Accuracy de val:   {current_solver.val_acc_history[-1]}')\n",
    "    print()\n",
    "\n",
    "    if current_solver.val_acc_history[-1] > best_val: \n",
    "        best_val = current_solver.val_acc_history[-1]\n",
    "        solver = current_solver\n",
    "        best_model = current_model\n",
    "\n",
    "\n",
    "end_time = time.time()\n",
    "print(\"Tiempo de ejecucion: \", end_time - start_time)\n",
    "# *****END OF YOUR CODE (DO NOT DELETE/MODIFY THIS LINE)*****\n",
    "################################################################################\n",
    "#                              END OF YOUR CODE                                #\n",
    "################################################################################"
   ]
  },
  {
   "cell_type": "code",
   "execution_count": 32,
   "metadata": {},
   "outputs": [
    {
     "name": "stdout",
     "output_type": "stream",
     "text": [
      "Modelo 1/2: hidden_dims:[64, 64, 64], dropout:0.78, epochs:20\n",
      "\t Accuracy de train: 0.584\n",
      "\t Accuracy de val:   0.526\n",
      "\n",
      "Modelo 2/2: hidden_dims:[64, 64, 64], dropout:0.75, epochs:20\n",
      "\t Accuracy de train: 0.634\n",
      "\t Accuracy de val:   0.523\n",
      "\n",
      "Tiempo de ejecucion:  4 minutos\n"
     ]
    }
   ],
   "source": [
    "# ya que ninguno de los modelos anteriores dio resultado,\n",
    "# se prueba variando diferentes parametros\n",
    "\n",
    "best_model = None\n",
    "\n",
    "best_val = -1\n",
    "\n",
    "# hyperparámetros:\n",
    "hidden_dimentions = [[64, 64, 64]] # ,[128, 128, 128]] se anula esta arqui ya que empeora los resultados\n",
    "dropouts = [0.78, 0.75]\n",
    "epochs = [20]\n",
    "\n",
    "\n",
    "grid_search = [[hidden_dims, dropout, num_epochs] \n",
    "                                for hidden_dims in hidden_dimentions \\\n",
    "                                for dropout in dropouts \\\n",
    "                                for num_epochs in epochs\n",
    "]\n",
    "\n",
    "tot_models = len(grid_search)\n",
    "\n",
    "start_time = time.time()\n",
    "\n",
    "for model_num,[hidden_dims, dropout, num_epochs] in enumerate(grid_search):\n",
    "    \n",
    "    print(f'Modelo {model_num+1}/{tot_models}: hidden_dims:{hidden_dims}, dropout:{dropout}, epochs:{num_epochs}')\n",
    "\n",
    "    current_model = FullyConnectedNet(hidden_dims = hidden_dims,\n",
    "                                      dropout = dropout,\n",
    "                                      normalization = 'batchnorm',\n",
    "                                      weight_scale = 5e-2,\n",
    "                                      reg = 0.001\n",
    "                                     )\n",
    "    \n",
    "    current_solver = Solver(model, data,         # mandatory\n",
    "                            update_rule='adam', \n",
    "                            optim_config={\n",
    "                              'learning_rate': 3e-4, # recomendacion de Andrej Karpathy\n",
    "                                                     # https://twitter.com/karpathy/status/801621764144971776?lang=en\n",
    "                            },\n",
    "                            lr_decay=0.95,\n",
    "                            num_epochs=num_epochs,\n",
    "                            batch_size=100, \n",
    "                            verbose=False\n",
    "                            )\n",
    "    \n",
    "    current_solver.train()\n",
    "\n",
    "    print(f'\\t Accuracy de train: {current_solver.train_acc_history[-1]}')\n",
    "    print(f'\\t Accuracy de val:   {current_solver.val_acc_history[-1]}')\n",
    "    print()\n",
    "\n",
    "    val_accuracy = solver.best_val_acc\n",
    "    if best_val < val_accuracy:\n",
    "        best_val = val_accuracy\n",
    "        best_model = model\n",
    "\n",
    "\n",
    "end_time = time.time()\n",
    "print(\"Tiempo de ejecucion: \", int((end_time - start_time)/60), 'minutos')"
   ]
  },
  {
   "cell_type": "markdown",
   "metadata": {
    "id": "CyWnX9a8tcmx"
   },
   "source": [
    "# Test your model!\n",
    "Run your best model on the validation and test sets. You should achieve above 50% accuracy on the validation set."
   ]
  },
  {
   "cell_type": "code",
   "execution_count": 33,
   "metadata": {
    "id": "BDUQWs9utcmx"
   },
   "outputs": [
    {
     "name": "stdout",
     "output_type": "stream",
     "text": [
      "Validation set accuracy:  0.526\n",
      "Test set accuracy:  0.529\n"
     ]
    }
   ],
   "source": [
    "y_test_pred = np.argmax(best_model.loss(data['X_test']), axis=1)\n",
    "y_val_pred = np.argmax(best_model.loss(data['X_val']), axis=1)\n",
    "print('Validation set accuracy: ', (y_val_pred == data['y_val']).mean())\n",
    "print('Test set accuracy: ', (y_test_pred == data['y_test']).mean())"
   ]
  }
 ],
 "metadata": {
  "colab": {
   "collapsed_sections": [],
   "name": "FullyConnectedNets.ipynb",
   "provenance": [],
   "toc_visible": true
  },
  "kernelspec": {
   "display_name": "Python 3",
   "language": "python",
   "name": "python3"
  },
  "language_info": {
   "codemirror_mode": {
    "name": "ipython",
    "version": 3
   },
   "file_extension": ".py",
   "mimetype": "text/x-python",
   "name": "python",
   "nbconvert_exporter": "python",
   "pygments_lexer": "ipython3",
   "version": "3.7.9"
  }
 },
 "nbformat": 4,
 "nbformat_minor": 1
}

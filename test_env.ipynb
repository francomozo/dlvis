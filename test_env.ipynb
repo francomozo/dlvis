{
 "cells": [
  {
   "cell_type": "code",
   "execution_count": 1,
   "metadata": {},
   "outputs": [],
   "source": [
    "import numpy as np"
   ]
  },
  {
   "cell_type": "code",
   "execution_count": 29,
   "metadata": {},
   "outputs": [
    {
     "name": "stdout",
     "output_type": "stream",
     "text": [
      "[[[-6 -5]\n",
      "  [-4 -3]]\n",
      "\n",
      " [[-2 -1]\n",
      "  [ 0  1]]\n",
      "\n",
      " [[ 2  3]\n",
      "  [ 4  5]]]\n",
      "(3, 2, 2)\n"
     ]
    },
    {
     "data": {
      "text/plain": [
       "array([[-6, -5, -4, -3],\n",
       "       [-2, -1,  0,  1],\n",
       "       [ 2,  3,  4,  5]])"
      ]
     },
     "execution_count": 29,
     "metadata": {},
     "output_type": "execute_result"
    }
   ],
   "source": [
    "vector = np.arange(-6,6).reshape(3,2,2)\n",
    "\n",
    "print(vector)\n",
    "print(vector.shape)\n",
    "\n",
    "np.reshape(vector, (vector.shape[0],-1))\n",
    "#X_train = np.reshape(X_train, (X_train.shape[0], -1))"
   ]
  },
  {
   "cell_type": "code",
   "execution_count": 30,
   "metadata": {},
   "outputs": [
    {
     "name": "stdout",
     "output_type": "stream",
     "text": [
      "[[[-6 -5]\n",
      "  [-4 -3]]\n",
      "\n",
      " [[-2 -1]\n",
      "  [ 0  1]]\n",
      "\n",
      " [[ 2  3]\n",
      "  [ 4  5]]]\n"
     ]
    },
    {
     "data": {
      "text/plain": [
       "array([[[0, 0],\n",
       "        [0, 0]],\n",
       "\n",
       "       [[0, 0],\n",
       "        [0, 1]],\n",
       "\n",
       "       [[2, 3],\n",
       "        [4, 5]]])"
      ]
     },
     "execution_count": 30,
     "metadata": {},
     "output_type": "execute_result"
    }
   ],
   "source": [
    "print(vector)\n",
    "np.maximum(vector, 0)"
   ]
  },
  {
   "cell_type": "code",
   "execution_count": 38,
   "metadata": {},
   "outputs": [
    {
     "name": "stdout",
     "output_type": "stream",
     "text": [
      "[[1 6 4 0]\n",
      " [0 0 3 1]]\n"
     ]
    },
    {
     "data": {
      "text/plain": [
       "array([[1, 1, 1, 0],\n",
       "       [0, 0, 1, 1]])"
      ]
     },
     "execution_count": 38,
     "metadata": {},
     "output_type": "execute_result"
    }
   ],
   "source": [
    "salida_relu = np.array([[1,6,4,0],[0,0,3,1]])\n",
    "print(salida_relu)\n",
    "np.heaviside(salida_relu, 0).astype(int)"
   ]
  },
  {
   "cell_type": "code",
   "execution_count": 39,
   "metadata": {},
   "outputs": [
    {
     "name": "stdout",
     "output_type": "stream",
     "text": [
      "4\n"
     ]
    }
   ],
   "source": [
    "dlr = np.heaviside(salida_relu, 0).astype(int) if salida_relu.all() > 0 else 4\n",
    "print(dlr)"
   ]
  },
  {
   "cell_type": "code",
   "execution_count": 3,
   "metadata": {},
   "outputs": [
    {
     "data": {
      "text/plain": [
       "dict_keys(['a', 'b', 'c'])"
      ]
     },
     "execution_count": 3,
     "metadata": {},
     "output_type": "execute_result"
    }
   ],
   "source": [
    "\n",
    "thisdict = {\n",
    "  \"a\": [1,2,3],\n",
    "  \"b\": [1,2,3],\n",
    "  \"c\": [1,2,3]\n",
    "}\n",
    "\n",
    "thisdict.keys()\n"
   ]
  },
  {
   "cell_type": "code",
   "execution_count": 5,
   "metadata": {},
   "outputs": [
    {
     "name": "stdout",
     "output_type": "stream",
     "text": [
      "3 [1, 2, 3]\n"
     ]
    }
   ],
   "source": [
    "diction = {}\n",
    "\n",
    "diction[\"a\"] = thisdict[\"a\"]\n",
    "\n",
    "diction[\"a\"] = 3\n",
    "print(diction[\"a\"], thisdict[\"a\"])"
   ]
  },
  {
   "cell_type": "code",
   "execution_count": 9,
   "metadata": {},
   "outputs": [
    {
     "name": "stdout",
     "output_type": "stream",
     "text": [
      "54\n",
      "50\n",
      "50\n",
      "50\n",
      "50\n",
      "50\n",
      "50\n",
      "50\n",
      "50\n",
      "50\n",
      "50\n",
      "50\n",
      "50\n",
      "50\n",
      "50\n",
      "50\n",
      "50\n",
      "50\n",
      "50\n",
      "100\n",
      "100\n",
      "100\n",
      "100\n",
      "100\n",
      "100\n",
      "100\n",
      "100\n",
      "100\n",
      "100\n",
      "100\n",
      "100\n",
      "100\n",
      "100\n",
      "100\n",
      "100\n",
      "100\n",
      "100\n",
      "1000\n",
      "1000\n",
      "1000\n",
      "1000\n",
      "1000\n",
      "1000\n",
      "1000\n",
      "1000\n",
      "1000\n",
      "1000\n",
      "1000\n",
      "1000\n",
      "1000\n",
      "1000\n",
      "1000\n",
      "1000\n",
      "1000\n",
      "1000\n"
     ]
    }
   ],
   "source": [
    "hidden_dims = [50, 100, 1000]\n",
    "regs = [0.0, 0.3, 0.7]\n",
    "lrs = [1e-2, 1e-3, 1e-4]\n",
    "num_epochs = [10, 20]\n",
    "\n",
    "grid_search = [\n",
    "                [hidden_dim, reg, lr, epochs] for hidden_dim in hidden_dims \\\n",
    "                                              for reg in regs \\\n",
    "                                              for lr in lrs \\\n",
    "                                              for epochs in num_epochs\n",
    "]\n",
    "\n",
    "print(len(grid_search))\n",
    "for num, [hidden_dim, reg, lr, epochs] in enumerate(grid_search):\n",
    "    print(hidden_dim)"
   ]
  },
  {
   "cell_type": "code",
   "execution_count": 2,
   "metadata": {},
   "outputs": [
    {
     "name": "stdout",
     "output_type": "stream",
     "text": [
      "{'W3': 2}\n"
     ]
    }
   ],
   "source": [
    "x = 3\n",
    "disdic = {}\n",
    "\n",
    "disdic['W' + str(x)] = 2\n",
    "\n",
    "print(disdic)"
   ]
  },
  {
   "cell_type": "code",
   "execution_count": 7,
   "metadata": {},
   "outputs": [
    {
     "name": "stdout",
     "output_type": "stream",
     "text": [
      "1 3\n",
      "2 4\n",
      "3 1\n",
      "4 4\n"
     ]
    }
   ],
   "source": [
    "lista = [3,4,1,4]\n",
    "\n",
    "for entrada, elemento in enumerate(lista, start=1):\n",
    "    print(entrada, elemento)"
   ]
  },
  {
   "cell_type": "code",
   "execution_count": 10,
   "metadata": {},
   "outputs": [
    {
     "name": "stdout",
     "output_type": "stream",
     "text": [
      "0\n",
      "1\n",
      "2\n"
     ]
    }
   ],
   "source": [
    "dim = 4\n",
    "for i in range(dim-1):\n",
    "    print(i)"
   ]
  },
  {
   "cell_type": "code",
   "execution_count": 13,
   "metadata": {},
   "outputs": [],
   "source": [
    "dic = {'W1': [1,2,3,4], 'W2': [1,2,3,4]}"
   ]
  },
  {
   "cell_type": "code",
   "execution_count": 14,
   "metadata": {},
   "outputs": [
    {
     "name": "stdout",
     "output_type": "stream",
     "text": [
      "{'W1': [1, 2, 3, 4], 'W2': [1, 2, 3, 4]}\n"
     ]
    }
   ],
   "source": [
    "print(dic)"
   ]
  },
  {
   "cell_type": "code",
   "execution_count": 26,
   "metadata": {},
   "outputs": [
    {
     "data": {
      "text/plain": [
       "array([ 1,  4,  9, 16], dtype=int32)"
      ]
     },
     "execution_count": 26,
     "metadata": {},
     "output_type": "execute_result"
    }
   ],
   "source": [
    "np.square(dic['W1'])"
   ]
  },
  {
   "cell_type": "code",
   "execution_count": 27,
   "metadata": {},
   "outputs": [
    {
     "data": {
      "text/plain": [
       "30"
      ]
     },
     "execution_count": 27,
     "metadata": {},
     "output_type": "execute_result"
    }
   ],
   "source": [
    "np.sum(np.square(dic['W1']))"
   ]
  },
  {
   "cell_type": "code",
   "execution_count": 22,
   "metadata": {},
   "outputs": [
    {
     "name": "stdout",
     "output_type": "stream",
     "text": [
      "{'W1': [1, 2, 3, 4], 'W2': [1, 2, 3, 4]}\n"
     ]
    }
   ],
   "source": [
    "print(dic)"
   ]
  },
  {
   "cell_type": "code",
   "execution_count": 24,
   "metadata": {},
   "outputs": [
    {
     "data": {
      "text/plain": [
       "array([ 1,  4,  9, 16])"
      ]
     },
     "execution_count": 24,
     "metadata": {},
     "output_type": "execute_result"
    }
   ],
   "source": [
    "W1 = np.array([1,2,3,4])\n",
    "\n",
    "W1*W1"
   ]
  },
  {
   "cell_type": "code",
   "execution_count": 37,
   "metadata": {},
   "outputs": [],
   "source": [
    "lista = np.sum([np.sum(np.square(val)) for item, val in dic.items()])"
   ]
  },
  {
   "cell_type": "code",
   "execution_count": 39,
   "metadata": {},
   "outputs": [
    {
     "name": "stdout",
     "output_type": "stream",
     "text": [
      "60\n"
     ]
    }
   ],
   "source": [
    "print(lista)"
   ]
  },
  {
   "cell_type": "code",
   "execution_count": 31,
   "metadata": {},
   "outputs": [
    {
     "name": "stdout",
     "output_type": "stream",
     "text": [
      "W1 [1, 2, 3, 4]\n",
      "W2 [1, 2, 3, 4]\n"
     ]
    }
   ],
   "source": [
    "for item, val in dic.items():\n",
    "    print(item, val)"
   ]
  },
  {
   "cell_type": "code",
   "execution_count": 42,
   "metadata": {},
   "outputs": [
    {
     "name": "stdout",
     "output_type": "stream",
     "text": [
      "3\n",
      "2\n",
      "1\n",
      "0\n"
     ]
    }
   ],
   "source": [
    "rango = 4\n",
    "\n",
    "for i in range(rango):\n",
    "    print(rango - 1 - i)"
   ]
  },
  {
   "cell_type": "code",
   "execution_count": 46,
   "metadata": {},
   "outputs": [
    {
     "name": "stdout",
     "output_type": "stream",
     "text": [
      "3\n",
      "2\n",
      "1\n",
      "0\n"
     ]
    }
   ],
   "source": [
    "for i in range(rango-1, -1, -1):\n",
    "    print(i)"
   ]
  },
  {
   "cell_type": "code",
   "execution_count": 15,
   "metadata": {},
   "outputs": [
    {
     "name": "stdout",
     "output_type": "stream",
     "text": [
      "[[1 2 3]\n",
      " [0 3 1]] \t\n",
      "[[ 1 -1  3]\n",
      " [ 0 -3  1]]\n"
     ]
    }
   ],
   "source": [
    "dout = np.array([[1,2,3],[0,3,1]])\n",
    "\n",
    "x = np.array([[1,-1,3],[0,-3,1]])\n",
    "\n",
    "print(dout, '\\t')\n",
    "print(x)\n"
   ]
  },
  {
   "cell_type": "code",
   "execution_count": 9,
   "metadata": {},
   "outputs": [
    {
     "name": "stdout",
     "output_type": "stream",
     "text": [
      "[[1 0 3]\n",
      " [0 0 1]]\n"
     ]
    }
   ],
   "source": [
    "alpha = 100\n",
    "dx = dout\n",
    "dx[x<0] = 0#dout*alpha\n",
    "print(dx)"
   ]
  },
  {
   "cell_type": "code",
   "execution_count": 10,
   "metadata": {},
   "outputs": [
    {
     "ename": "ValueError",
     "evalue": "The truth value of an array with more than one element is ambiguous. Use a.any() or a.all()",
     "output_type": "error",
     "traceback": [
      "\u001b[1;31m---------------------------------------------------------------------------\u001b[0m",
      "\u001b[1;31mValueError\u001b[0m                                Traceback (most recent call last)",
      "\u001b[1;32m<ipython-input-10-8b0323bb24e0>\u001b[0m in \u001b[0;36m<module>\u001b[1;34m\u001b[0m\n\u001b[0;32m      1\u001b[0m \u001b[1;33m\u001b[0m\u001b[0m\n\u001b[0;32m      2\u001b[0m \u001b[1;33m\u001b[0m\u001b[0m\n\u001b[1;32m----> 3\u001b[1;33m \u001b[0mdx\u001b[0m \u001b[1;33m=\u001b[0m \u001b[1;33m[\u001b[0m\u001b[0mdout\u001b[0m \u001b[1;32mif\u001b[0m \u001b[0mx\u001b[0m\u001b[1;33m>\u001b[0m\u001b[1;36m0\u001b[0m \u001b[1;32melse\u001b[0m \u001b[0mdout\u001b[0m\u001b[1;33m*\u001b[0m\u001b[0malpha\u001b[0m \u001b[1;32mfor\u001b[0m \u001b[0mdout\u001b[0m\u001b[1;33m,\u001b[0m \u001b[0mx\u001b[0m \u001b[1;32min\u001b[0m \u001b[0mzip\u001b[0m\u001b[1;33m(\u001b[0m\u001b[0mdout\u001b[0m\u001b[1;33m,\u001b[0m \u001b[0mx\u001b[0m\u001b[1;33m)\u001b[0m\u001b[1;33m]\u001b[0m\u001b[1;33m\u001b[0m\u001b[1;33m\u001b[0m\u001b[0m\n\u001b[0m",
      "\u001b[1;32m<ipython-input-10-8b0323bb24e0>\u001b[0m in \u001b[0;36m<listcomp>\u001b[1;34m(.0)\u001b[0m\n\u001b[0;32m      1\u001b[0m \u001b[1;33m\u001b[0m\u001b[0m\n\u001b[0;32m      2\u001b[0m \u001b[1;33m\u001b[0m\u001b[0m\n\u001b[1;32m----> 3\u001b[1;33m \u001b[0mdx\u001b[0m \u001b[1;33m=\u001b[0m \u001b[1;33m[\u001b[0m\u001b[0mdout\u001b[0m \u001b[1;32mif\u001b[0m \u001b[0mx\u001b[0m\u001b[1;33m>\u001b[0m\u001b[1;36m0\u001b[0m \u001b[1;32melse\u001b[0m \u001b[0mdout\u001b[0m\u001b[1;33m*\u001b[0m\u001b[0malpha\u001b[0m \u001b[1;32mfor\u001b[0m \u001b[0mdout\u001b[0m\u001b[1;33m,\u001b[0m \u001b[0mx\u001b[0m \u001b[1;32min\u001b[0m \u001b[0mzip\u001b[0m\u001b[1;33m(\u001b[0m\u001b[0mdout\u001b[0m\u001b[1;33m,\u001b[0m \u001b[0mx\u001b[0m\u001b[1;33m)\u001b[0m\u001b[1;33m]\u001b[0m\u001b[1;33m\u001b[0m\u001b[1;33m\u001b[0m\u001b[0m\n\u001b[0m",
      "\u001b[1;31mValueError\u001b[0m: The truth value of an array with more than one element is ambiguous. Use a.any() or a.all()"
     ]
    }
   ],
   "source": [
    "\n",
    "\n",
    "dx = [dout if x>0 else dout*alpha for dout, x in zip(dout, x)]"
   ]
  },
  {
   "cell_type": "code",
   "execution_count": 12,
   "metadata": {},
   "outputs": [
    {
     "name": "stdout",
     "output_type": "stream",
     "text": [
      "(array([1, 0, 3]), array([ 1, -1,  3]))\n",
      "(array([0, 0, 1]), array([ 0, -3,  1]))\n"
     ]
    }
   ],
   "source": [
    "for j in zip(dout, x):\n",
    "    print(j)"
   ]
  },
  {
   "cell_type": "code",
   "execution_count": 16,
   "metadata": {},
   "outputs": [
    {
     "name": "stdout",
     "output_type": "stream",
     "text": [
      "[[  1 200   3]\n",
      " [  0 300   1]]\n"
     ]
    }
   ],
   "source": [
    "alpha =100\n",
    "x = np.where(x>0, dout, dout*alpha)\n",
    "print(x)"
   ]
  },
  {
   "cell_type": "code",
   "execution_count": 8,
   "metadata": {},
   "outputs": [
    {
     "name": "stdout",
     "output_type": "stream",
     "text": [
      "[[ 1  2  3]\n",
      " [10 11 13]]\n"
     ]
    }
   ],
   "source": [
    "matriz = np.array([[1,2,3],[10,11,13]])\n",
    "print(matriz)\n",
    "mean = np.mean(matriz, axis=0, keepdims=True)"
   ]
  },
  {
   "cell_type": "code",
   "execution_count": 9,
   "metadata": {},
   "outputs": [
    {
     "name": "stdout",
     "output_type": "stream",
     "text": [
      "[[5.5 6.5 8. ]]\n",
      "(2, 3)\n",
      "(1, 3)\n"
     ]
    }
   ],
   "source": [
    "print(mean)\n",
    "\n",
    "print(matriz.shape)\n",
    "print(mean.shape)"
   ]
  },
  {
   "cell_type": "code",
   "execution_count": 19,
   "metadata": {},
   "outputs": [],
   "source": [
    "x = np.array([3,4,33,5,2])\n",
    "p=0.9\n",
    "mask = np.random.rand(*x.shape)< p\n"
   ]
  },
  {
   "cell_type": "code",
   "execution_count": 20,
   "metadata": {},
   "outputs": [],
   "source": [
    "x *= mask"
   ]
  },
  {
   "cell_type": "code",
   "execution_count": 21,
   "metadata": {},
   "outputs": [
    {
     "data": {
      "text/plain": [
       "array([ 3,  4, 33,  5,  2])"
      ]
     },
     "execution_count": 21,
     "metadata": {},
     "output_type": "execute_result"
    }
   ],
   "source": [
    "x"
   ]
  },
  {
   "cell_type": "code",
   "execution_count": 22,
   "metadata": {},
   "outputs": [
    {
     "data": {
      "text/plain": [
       "array([0.64414354, 0.38074849, 0.66304791, 0.16365073, 0.96260781])"
      ]
     },
     "execution_count": 22,
     "metadata": {},
     "output_type": "execute_result"
    }
   ],
   "source": [
    "np.random.seed(30)\n",
    "np.random.rand(*x.shape)"
   ]
  },
  {
   "cell_type": "code",
   "execution_count": 25,
   "metadata": {},
   "outputs": [
    {
     "data": {
      "text/plain": [
       "array([0.24851013, 0.44997542, 0.4109408 , 0.26029969, 0.87039569])"
      ]
     },
     "execution_count": 25,
     "metadata": {},
     "output_type": "execute_result"
    }
   ],
   "source": [
    "np.random.seed(33)\n",
    "np.random.rand(*x.shape)"
   ]
  },
  {
   "cell_type": "code",
   "execution_count": null,
   "metadata": {},
   "outputs": [],
   "source": [
    "N, C, H, W = 1, 2, 2, 2\n",
    "sh = (N, C, H, W)\n",
    "\n",
    "ar = np.arange(0, N*C*H*W)\n",
    "\n",
    "rsh = np.reshape(ar, sh)\n",
    "\n",
    "G = 2\n",
    "\n",
    "rrsh = rsh.transpose(0, 2, 3, 1).reshape(N, H*W, C) # reordeno y primer reshape\n",
    "\n",
    "dim = C // G \n",
    "\n",
    "rrrsh = rrsh.reshape(N*dim, H*W, G)\n",
    "\n",
    "\n",
    "def reshape_volume(volume, G):\n",
    "    \n",
    "    N, C, H, W = volume.shape\n",
    "    out1 = volume.transpose(0, 2, 3, 1).reshape(N, H*W, C) \n",
    "    \n",
    "    dim = C // G\n",
    "    out2 = out.reshape(N*dim, H*W, G)\n",
    "    out3 = out.reshape(N*dim, H*W*G)\n",
    "    \n",
    "    print('volume sh 1: ', volume.shape)\n",
    "    print('volume sh 2: ', out1.shape)\n",
    "    print('volume sh 3 ', out2.shape)\n",
    "    print('volume sh 4: ', out3.shape)\n",
    "    return out3\n",
    "\n",
    "    \n",
    "def undo_reshape(volume, G):\n",
    "    dim = C // G\n",
    "    \n",
    "    out1 = volume.reshape(N*dim, H*W, G)\n",
    "    out2 = out.reshape(N, H*W, C)\n",
    "    out3 = out.reshape(N, H, W, C).transpose(0, 3, 1, 2)\n",
    "\n",
    "    print('volume sh 4: ', volume.shape)\n",
    "    print('volume sh 3: ', out1.shape)\n",
    "    print('volume sh 2 ', out2.shape)\n",
    "    print('volume sh 1: ', out3.shape)\n",
    "\n",
    "    return out3\n",
    "\n",
    "\n",
    "N, C, H, W = 2, 6, 4, 5\n",
    "sh = (N, C, H, W)\n",
    "ar = np.arange(0, N*C*H*W)\n",
    "rsh = np.reshape(ar, sh)\n",
    "\n",
    "out = reshape_volume(rsh, G)\n",
    "print(out.shape)\n",
    "out = undo_reshape(out, G)\n"
   ]
  },
  {
   "cell_type": "code",
   "execution_count": null,
   "metadata": {},
   "outputs": [],
   "source": [
    "import torch\n",
    "assert '.'.join(torch.__version__.split('.')[:2]) == '1.4'\n",
    "\n",
    "import torch.optim as optim\n",
    "from torch.utils.data import DataLoader\n",
    "from torch.utils.data import sampler\n",
    "\n",
    "import torchvision.datasets as dset\n",
    "import torchvision.transforms as T\n",
    "\n",
    "import numpy as np\n",
    "model = None\n",
    "optimizer = None\n",
    "\n",
    "def flatten(x):\n",
    "    N = x.shape[0] # read in N, C, H, W\n",
    "    return x.view(N, -1)  # \"flatten\" the C * H * W values into a single vector per image\n",
    "\n",
    "# *****START OF YOUR CODE (DO NOT DELETE/MODIFY THIS LINE)*****\n",
    "class Flatten(nn.Module):\n",
    "    def forward(self, x):\n",
    "        return flatten(x)\n",
    "\n",
    "# Primera red de prueba de la sugerencia:\n",
    "#[conv-relu-pool]xN -> [affine]xM -> [softmax or SVM]\n",
    "\n",
    "in_channel = 3\n",
    "num_classes = 10\n",
    "channel_1 = 100\n",
    "\n",
    "import torch.nn as nn\n",
    "model = nn.Sequential(\n",
    "    nn.Conv2d(in_channel, channel_1, kernel_size=5, padding=2, bias=True),\n",
    "    nn.BatchNorm2d(num_features=channel_1),\n",
    "    nn.MaxPool2d(kernel_size=2)\n",
    ")\n",
    "\n",
    "from torchsummary import summary\n",
    "summary(model, (3,200,200))"
   ]
  },
  {
   "cell_type": "code",
   "execution_count": 4,
   "metadata": {},
   "outputs": [
    {
     "data": {
      "text/plain": [
       "array([4, 5, 9, 4])"
      ]
     },
     "execution_count": 4,
     "metadata": {},
     "output_type": "execute_result"
    }
   ],
   "source": [
    "# Increment items 0 and 1, and increment item 2 twice:\n",
    "a = np.array([1, 2, 3, 4])\n",
    "np.add.at(a, [0, 1, 2, 2], 3)\n",
    "a"
   ]
  },
  {
   "cell_type": "code",
   "execution_count": 6,
   "metadata": {},
   "outputs": [
    {
     "name": "stdout",
     "output_type": "stream",
     "text": [
      "[[-2 -1  0]\n",
      " [-4  2 -2]]\n"
     ]
    },
    {
     "data": {
      "text/plain": [
       "29"
      ]
     },
     "execution_count": 6,
     "metadata": {},
     "output_type": "execute_result"
    }
   ],
   "source": [
    "a = np.array([[1,2,3],\n",
    "              [1,2,3]])\n",
    "\n",
    "b = np.array([[3,3,3],\n",
    "              [5,0,5]])\n",
    "\n",
    "print(a - b)\n",
    "np.sum(np.square(a - b))"
   ]
  },
  {
   "cell_type": "code",
   "execution_count": 7,
   "metadata": {},
   "outputs": [],
   "source": [
    "import torch"
   ]
  },
  {
   "cell_type": "code",
   "execution_count": 16,
   "metadata": {},
   "outputs": [
    {
     "name": "stdout",
     "output_type": "stream",
     "text": [
      "tensor([[[1, 1],\n",
      "         [2, 2]],\n",
      "\n",
      "        [[1, 1],\n",
      "         [2, 2]]]) tensor([[[3, 3],\n",
      "         [4, 4]],\n",
      "\n",
      "        [[3, 3],\n",
      "         [4, 4]]])\n",
      "tensor([16, 16])\n"
     ]
    }
   ],
   "source": [
    "a = torch.tensor([[[1,1], [2,2]], [[1,1], [2,2]]])\n",
    "b = torch.tensor([[[3,3], [4,4]], [[3,3], [4,4]]])\n",
    "\n",
    "print(a, b)\n",
    "print(torch.sum(a[:, 1, : ] * b[:, 1, : ], dim =1) )"
   ]
  },
  {
   "cell_type": "code",
   "execution_count": null,
   "metadata": {},
   "outputs": [],
   "source": [
    "torch.transpose()"
   ]
  }
 ],
 "metadata": {
  "kernelspec": {
   "display_name": "Python 3",
   "language": "python",
   "name": "python3"
  },
  "language_info": {
   "codemirror_mode": {
    "name": "ipython",
    "version": 3
   },
   "file_extension": ".py",
   "mimetype": "text/x-python",
   "name": "python",
   "nbconvert_exporter": "python",
   "pygments_lexer": "ipython3",
   "version": "3.7.9"
  }
 },
 "nbformat": 4,
 "nbformat_minor": 4
}

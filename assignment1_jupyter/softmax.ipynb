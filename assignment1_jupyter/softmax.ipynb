{
 "cells": [
  {
   "cell_type": "markdown",
   "metadata": {
    "id": "T1co6K9EU3Ru",
    "tags": [
     "pdf-title"
    ]
   },
   "source": [
    "# Softmax exercise\n",
    "\n",
    "*Complete and hand in this completed worksheet (including its outputs and any supporting code outside of the worksheet) with your assignment submission. For more details see the [assignments page](https://iie.fing.edu.uy/~jlezama/DLVIS2020/entregables.html) on the course website.*\n",
    "\n",
    "In this exercise you will:\n",
    "\n",
    "- implement a fully-vectorized **loss function** for the Softmax classifier\n",
    "- implement the fully-vectorized expression for its **analytic gradient**\n",
    "- **check your implementation** with numerical gradient\n",
    "- use a validation set to **tune the learning rate and regularization** strength\n",
    "- **optimize** the loss function with **SGD**\n",
    "- **visualize** the final learned weights\n"
   ]
  },
  {
   "cell_type": "code",
   "execution_count": 1,
   "metadata": {
    "id": "x-N4jPJJU3Ru",
    "tags": [
     "pdf-ignore"
    ]
   },
   "outputs": [],
   "source": [
    "import random\n",
    "import numpy as np\n",
    "from cs231n.data_utils import load_CIFAR10\n",
    "import matplotlib.pyplot as plt\n",
    "\n",
    "%matplotlib inline\n",
    "plt.rcParams['figure.figsize'] = (10.0, 8.0) # set default size of plots\n",
    "plt.rcParams['image.interpolation'] = 'nearest'\n",
    "plt.rcParams['image.cmap'] = 'gray'\n",
    "\n",
    "# for auto-reloading external modules\n",
    "# see http://stackoverflow.com/questions/1907993/autoreload-of-modules-in-ipython\n",
    "%load_ext autoreload\n",
    "%autoreload 2"
   ]
  },
  {
   "cell_type": "code",
   "execution_count": 2,
   "metadata": {
    "id": "v4og8MZwU3Rx",
    "tags": [
     "pdf-ignore"
    ]
   },
   "outputs": [
    {
     "name": "stdout",
     "output_type": "stream",
     "text": [
      "Train data shape:  (49000, 3073)\n",
      "Train labels shape:  (49000,)\n",
      "Validation data shape:  (1000, 3073)\n",
      "Validation labels shape:  (1000,)\n",
      "Test data shape:  (1000, 3073)\n",
      "Test labels shape:  (1000,)\n",
      "dev data shape:  (500, 3073)\n",
      "dev labels shape:  (500,)\n"
     ]
    }
   ],
   "source": [
    "def get_CIFAR10_data(num_training=49000, num_validation=1000, num_test=1000, num_dev=500):\n",
    "    \"\"\"\n",
    "    Load the CIFAR-10 dataset from disk and perform preprocessing to prepare\n",
    "    it for the linear classifier.  \n",
    "    \"\"\"\n",
    "    # Load the raw CIFAR-10 data\n",
    "    cifar10_dir = 'cs231n/datasets/cifar-10-batches-py'\n",
    "    \n",
    "    # Cleaning up variables to prevent loading data multiple times (which may cause memory issue)\n",
    "    try:\n",
    "       del X_train, y_train\n",
    "       del X_test, y_test\n",
    "       print('Clear previously loaded data.')\n",
    "    except:\n",
    "       pass\n",
    "\n",
    "    X_train, y_train, X_test, y_test = load_CIFAR10(cifar10_dir)\n",
    "    \n",
    "    # subsample the data\n",
    "    mask = list(range(num_training, num_training + num_validation))\n",
    "    X_val = X_train[mask]\n",
    "    y_val = y_train[mask]\n",
    "    mask = list(range(num_training))\n",
    "    X_train = X_train[mask]\n",
    "    y_train = y_train[mask]\n",
    "    mask = list(range(num_test))\n",
    "    X_test = X_test[mask]\n",
    "    y_test = y_test[mask]\n",
    "    mask = np.random.choice(num_training, num_dev, replace=False)\n",
    "    X_dev = X_train[mask]\n",
    "    y_dev = y_train[mask]\n",
    "    \n",
    "    # Preprocessing: reshape the image data into rows\n",
    "    X_train = np.reshape(X_train, (X_train.shape[0], -1))\n",
    "    X_val = np.reshape(X_val, (X_val.shape[0], -1))\n",
    "    X_test = np.reshape(X_test, (X_test.shape[0], -1))\n",
    "    X_dev = np.reshape(X_dev, (X_dev.shape[0], -1))\n",
    "    \n",
    "    # Normalize the data: subtract the mean image\n",
    "    mean_image = np.mean(X_train, axis = 0)\n",
    "    X_train -= mean_image\n",
    "    X_val -= mean_image\n",
    "    X_test -= mean_image\n",
    "    X_dev -= mean_image\n",
    "    \n",
    "    # add bias dimension and transform into columns\n",
    "    X_train = np.hstack([X_train, np.ones((X_train.shape[0], 1))])\n",
    "    X_val = np.hstack([X_val, np.ones((X_val.shape[0], 1))])\n",
    "    X_test = np.hstack([X_test, np.ones((X_test.shape[0], 1))])\n",
    "    X_dev = np.hstack([X_dev, np.ones((X_dev.shape[0], 1))])\n",
    "    \n",
    "    return X_train, y_train, X_val, y_val, X_test, y_test, X_dev, y_dev\n",
    "\n",
    "\n",
    "# Invoke the above function to get our data.\n",
    "X_train, y_train, X_val, y_val, X_test, y_test, X_dev, y_dev = get_CIFAR10_data()\n",
    "print('Train data shape: ', X_train.shape)\n",
    "print('Train labels shape: ', y_train.shape)\n",
    "print('Validation data shape: ', X_val.shape)\n",
    "print('Validation labels shape: ', y_val.shape)\n",
    "print('Test data shape: ', X_test.shape)\n",
    "print('Test labels shape: ', y_test.shape)\n",
    "print('dev data shape: ', X_dev.shape)\n",
    "print('dev labels shape: ', y_dev.shape)"
   ]
  },
  {
   "cell_type": "markdown",
   "metadata": {
    "id": "U_wTOx5eU3R0"
   },
   "source": [
    "## Softmax Classifier\n",
    "\n",
    "Your code for this section will all be written inside `cs231n/classifiers/softmax.py`.\n"
   ]
  },
  {
   "cell_type": "code",
   "execution_count": 23,
   "metadata": {
    "id": "8VJlSAtWU3R0"
   },
   "outputs": [
    {
     "name": "stdout",
     "output_type": "stream",
     "text": [
      "loss: 2.336528\n",
      "sanity check: 2.302585\n"
     ]
    }
   ],
   "source": [
    "# First implement the naive softmax loss function with nested loops.\n",
    "# Open the file cs231n/classifiers/softmax.py and implement the\n",
    "# softmax_loss_naive function.\n",
    "\n",
    "from cs231n.classifiers.softmax import softmax_loss_naive\n",
    "import time\n",
    "\n",
    "# Generate a random softmax weight matrix and use it to compute the loss.\n",
    "W = np.random.randn(3073, 10) * 0.0001\n",
    "loss, grad = softmax_loss_naive(W, X_dev, y_dev, 0.0)\n",
    "\n",
    "# As a rough sanity check, our loss should be something close to -log(0.1).\n",
    "print('loss: %f' % loss)\n",
    "print('sanity check: %f' % (-np.log(0.1)))"
   ]
  },
  {
   "cell_type": "markdown",
   "metadata": {
    "id": "Cv806RkyU3R2",
    "tags": [
     "pdf-inline"
    ]
   },
   "source": [
    "**Inline Question 1**\n",
    "\n",
    "- 1.1 Why do we expect our loss to be close to -log(0.1)? Explain briefly.\n",
    "- 1.2 What are the minimum and maximum possible value for the Softmax loss? \n",
    "\n",
    "$\\color{blue}{\\textit Your Answer:}$ \n",
    "\n",
    "1: La expresión para la discrepancia es $-log(s)$ con s=probabilidad de las clases. Como hay 10 clases en nuestro dataset, la probabilidad es 1/10=0.1.\n",
    "\n",
    "2: Como la discrepancia es $L=-\\sum_{i=1}^nlog(s)+ \\lambda W^TW$, para $\\lambda=0$ y como \"s\" es una probabilidad el minimo es cero si s=1 y $\\lambda=0$. No esta acotada por arriba.\n"
   ]
  },
  {
   "cell_type": "code",
   "execution_count": 7,
   "metadata": {
    "id": "VjbP5KLKU3R3"
   },
   "outputs": [
    {
     "name": "stdout",
     "output_type": "stream",
     "text": [
      "numerical: 1.679611 analytic: 1.679611, relative error: 2.402868e-09\n",
      "numerical: 1.933362 analytic: 1.933362, relative error: 2.294655e-09\n",
      "numerical: -0.891891 analytic: -0.891892, relative error: 5.692857e-08\n",
      "numerical: 3.403461 analytic: 3.403461, relative error: 1.642551e-08\n",
      "numerical: 2.405056 analytic: 2.405056, relative error: 1.195105e-08\n",
      "numerical: -0.262773 analytic: -0.262773, relative error: 2.552053e-09\n",
      "numerical: 1.204526 analytic: 1.204526, relative error: 1.379204e-09\n",
      "numerical: 0.778575 analytic: 0.778575, relative error: 7.187283e-09\n",
      "numerical: -4.179224 analytic: -4.179224, relative error: 9.852101e-09\n",
      "numerical: -0.301104 analytic: -0.301104, relative error: 1.206384e-07\n",
      "numerical: -1.859856 analytic: -1.859856, relative error: 3.559530e-08\n",
      "numerical: 0.098469 analytic: 0.098469, relative error: 2.853476e-07\n",
      "numerical: -0.034095 analytic: -0.034095, relative error: 2.612257e-07\n",
      "numerical: -2.113373 analytic: -2.113373, relative error: 3.086922e-08\n",
      "numerical: 0.299491 analytic: 0.299491, relative error: 5.602726e-08\n",
      "numerical: -1.058683 analytic: -1.058683, relative error: 1.951871e-09\n",
      "numerical: -1.933508 analytic: -1.933508, relative error: 8.249504e-09\n",
      "numerical: 1.517070 analytic: 1.517070, relative error: 4.719595e-10\n",
      "numerical: -0.213829 analytic: -0.213829, relative error: 1.041732e-07\n",
      "numerical: -1.845483 analytic: -1.845483, relative error: 7.874346e-09\n"
     ]
    }
   ],
   "source": [
    "# Complete the implementation of softmax_loss_naive and implement a (naive)\n",
    "# version of the gradient that uses nested loops.\n",
    "loss, grad = softmax_loss_naive(W, X_dev, y_dev, 0.0)\n",
    "\n",
    "# Use numeric gradient checking as a debugging tool.\n",
    "# The numeric gradient should be close to the analytic gradient.\n",
    "from cs231n.gradient_check import grad_check_sparse\n",
    "f = lambda w: softmax_loss_naive(w, X_dev, y_dev, 0.0)[0]\n",
    "grad_numerical = grad_check_sparse(f, W, grad, 10)\n",
    "\n",
    "# Do another gradient check with regularization\n",
    "loss, grad = softmax_loss_naive(W, X_dev, y_dev, 5e1)\n",
    "f = lambda w: softmax_loss_naive(w, X_dev, y_dev, 5e1)[0]\n",
    "grad_numerical = grad_check_sparse(f, W, grad, 10)"
   ]
  },
  {
   "cell_type": "code",
   "execution_count": 29,
   "metadata": {
    "id": "2oUE2ANEU3R5"
   },
   "outputs": [
    {
     "name": "stdout",
     "output_type": "stream",
     "text": [
      "naive loss: 2.336528e+00 computed in 0.084737s\n",
      "vectorized loss: 2.336528e+00 computed in 0.002999s\n",
      "Loss difference: 0.000000\n",
      "Gradient difference: 0.000000\n"
     ]
    }
   ],
   "source": [
    "# Now that we have a naive implementation of the softmax loss function and its gradient,\n",
    "# implement a vectorized version in softmax_loss_vectorized.\n",
    "# The two versions should compute the same results, but the vectorized version should be\n",
    "# much faster.\n",
    "tic = time.time()\n",
    "loss_naive, grad_naive = softmax_loss_naive(W, X_dev, y_dev, 0.000005)\n",
    "toc = time.time()\n",
    "print('naive loss: %e computed in %fs' % (loss_naive, toc - tic))\n",
    "\n",
    "from cs231n.classifiers.softmax import softmax_loss_vectorized\n",
    "tic = time.time()\n",
    "loss_vectorized, grad_vectorized = softmax_loss_vectorized(W, X_dev, y_dev, 0.000005)\n",
    "toc = time.time()\n",
    "print('vectorized loss: %e computed in %fs' % (loss_vectorized, toc - tic))\n",
    "\n",
    "# W e use the Frobenius norm to compare the two versions\n",
    "# of the gradient.\n",
    "grad_difference = np.linalg.norm(grad_naive - grad_vectorized, ord='fro')\n",
    "print('Loss difference: %f' % np.abs(loss_naive - loss_vectorized))\n",
    "print('Gradient difference: %f' % grad_difference)"
   ]
  },
  {
   "cell_type": "markdown",
   "metadata": {
    "id": "TV8CP4edpkdJ"
   },
   "source": [
    "### Stochastic Gradient Descent\n",
    "\n",
    "We now have vectorized and efficient expressions for the loss, the gradient and our gradient matches the numerical gradient. We are therefore ready to do SGD to minimize the loss. Your code for this part will be written inside `cs231n/classifiers/linear_classifier.py`."
   ]
  },
  {
   "cell_type": "code",
   "execution_count": 31,
   "metadata": {
    "id": "ks_4fTkLpuj3"
   },
   "outputs": [
    {
     "name": "stdout",
     "output_type": "stream",
     "text": [
      "iteration 0 / 1500: loss 1537.258967\n",
      "iteration 100 / 1500: loss 207.095441\n",
      "iteration 200 / 1500: loss 29.490943\n",
      "iteration 300 / 1500: loss 5.796572\n",
      "iteration 400 / 1500: loss 2.615515\n",
      "iteration 500 / 1500: loss 2.214368\n",
      "iteration 600 / 1500: loss 2.136669\n",
      "iteration 700 / 1500: loss 2.158893\n",
      "iteration 800 / 1500: loss 2.108022\n",
      "iteration 900 / 1500: loss 2.156927\n",
      "iteration 1000 / 1500: loss 2.165162\n",
      "iteration 1100 / 1500: loss 2.148197\n",
      "iteration 1200 / 1500: loss 2.111676\n",
      "iteration 1300 / 1500: loss 2.117838\n",
      "iteration 1400 / 1500: loss 2.110695\n",
      "That took 6.341039s\n"
     ]
    }
   ],
   "source": [
    "# In the file linear_classifier.py, implement SGD in the function\n",
    "# LinearClassifier.train() and then run it with the code below.\n",
    "from cs231n.classifiers import Softmax\n",
    "softmax = Softmax()\n",
    "tic = time.time()\n",
    "loss_hist = softmax.train(X_train, y_train, learning_rate=1e-7, reg=5e4,\n",
    "                      num_iters=1500, verbose=True)\n",
    "toc = time.time()\n",
    "print('That took %fs' % (toc - tic))"
   ]
  },
  {
   "cell_type": "code",
   "execution_count": 32,
   "metadata": {
    "id": "rshs11VCpvKd"
   },
   "outputs": [
    {
     "data": {
      "image/png": "[encoded data removed]",
      "text/plain": [
       "<Figure size 432x288 with 1 Axes>"
      ]
     },
     "metadata": {
      "needs_background": "light"
     },
     "output_type": "display_data"
    }
   ],
   "source": [
    "# A useful debugging strategy is to plot the loss as a function of\n",
    "# iteration number:\n",
    "plt.plot(loss_hist)\n",
    "plt.xlabel('Iteration number')\n",
    "plt.ylabel('Loss value')\n",
    "plt.show()"
   ]
  },
  {
   "cell_type": "code",
   "execution_count": 33,
   "metadata": {
    "id": "croqeSbWpz1d"
   },
   "outputs": [
    {
     "name": "stdout",
     "output_type": "stream",
     "text": [
      "training accuracy: 0.318245\n",
      "validation accuracy: 0.325000\n"
     ]
    }
   ],
   "source": [
    "# Write the LinearClassifier.predict function and evaluate the performance on both the\n",
    "# training and validation set\n",
    "y_train_pred = softmax.predict(X_train)\n",
    "print( 'training accuracy: %f' % (np.mean(y_train == y_train_pred), ))\n",
    "y_val_pred = softmax.predict(X_val)\n",
    "print( 'validation accuracy: %f' % (np.mean(y_val == y_val_pred), ))"
   ]
  },
  {
   "cell_type": "code",
   "execution_count": 35,
   "metadata": {
    "id": "tuning",
    "tags": [
     "code"
    ]
   },
   "outputs": [
    {
     "name": "stdout",
     "output_type": "stream",
     "text": [
      "iteration 0 / 1500: loss 623.066807\n",
      "iteration 100 / 1500: loss 279.190307\n",
      "iteration 200 / 1500: loss 126.048760\n",
      "iteration 300 / 1500: loss 57.597823\n",
      "iteration 400 / 1500: loss 26.883731\n",
      "iteration 500 / 1500: loss 13.230844\n",
      "iteration 600 / 1500: loss 7.058049\n",
      "iteration 700 / 1500: loss 4.293707\n",
      "iteration 800 / 1500: loss 3.058020\n",
      "iteration 900 / 1500: loss 2.517822\n",
      "iteration 1000 / 1500: loss 2.302306\n",
      "iteration 1100 / 1500: loss 2.106710\n",
      "iteration 1200 / 1500: loss 2.087322\n",
      "iteration 1300 / 1500: loss 2.128839\n",
      "iteration 1400 / 1500: loss 2.048018\n",
      "iteration 0 / 1500: loss 1232.858069\n",
      "iteration 100 / 1500: loss 248.192441\n",
      "iteration 200 / 1500: loss 51.248378\n",
      "iteration 300 / 1500: loss 11.954030\n",
      "iteration 400 / 1500: loss 4.051047\n",
      "iteration 500 / 1500: loss 2.548431\n",
      "iteration 600 / 1500: loss 2.217373\n",
      "iteration 700 / 1500: loss 2.148554\n",
      "iteration 800 / 1500: loss 2.112109\n",
      "iteration 900 / 1500: loss 2.152150\n",
      "iteration 1000 / 1500: loss 2.111448\n",
      "iteration 1100 / 1500: loss 2.084381\n",
      "iteration 1200 / 1500: loss 2.134447\n",
      "iteration 1300 / 1500: loss 2.152244\n",
      "iteration 1400 / 1500: loss 2.081577\n",
      "iteration 0 / 1500: loss 631.301990\n",
      "iteration 100 / 1500: loss 2.251729\n",
      "iteration 200 / 1500: loss 2.120687\n",
      "iteration 300 / 1500: loss 2.043255\n",
      "iteration 400 / 1500: loss 2.097377\n",
      "iteration 500 / 1500: loss 2.083946\n",
      "iteration 600 / 1500: loss 2.068589\n",
      "iteration 700 / 1500: loss 2.142606\n",
      "iteration 800 / 1500: loss 2.063436\n",
      "iteration 900 / 1500: loss 2.046683\n",
      "iteration 1000 / 1500: loss 2.055025\n",
      "iteration 1100 / 1500: loss 2.113905\n",
      "iteration 1200 / 1500: loss 2.030739\n",
      "iteration 1300 / 1500: loss 2.063585\n",
      "iteration 1400 / 1500: loss 2.042827\n",
      "iteration 0 / 1500: loss 1223.877265\n",
      "iteration 100 / 1500: loss 2.111657\n",
      "iteration 200 / 1500: loss 2.135446\n",
      "iteration 300 / 1500: loss 2.134297\n",
      "iteration 400 / 1500: loss 2.147732\n",
      "iteration 500 / 1500: loss 2.095060\n",
      "iteration 600 / 1500: loss 2.143273\n",
      "iteration 700 / 1500: loss 2.170388\n",
      "iteration 800 / 1500: loss 2.159840\n",
      "iteration 900 / 1500: loss 2.130325\n",
      "iteration 1000 / 1500: loss 2.213742\n",
      "iteration 1100 / 1500: loss 2.118226\n",
      "iteration 1200 / 1500: loss 2.129317\n",
      "iteration 1300 / 1500: loss 2.150088\n",
      "iteration 1400 / 1500: loss 2.167909\n",
      "lr 1.000000e-07 reg 2.000000e+04 train accuracy: 0.331878 val accuracy: 0.351000\n",
      "lr 1.000000e-07 reg 4.000000e+04 train accuracy: 0.319020 val accuracy: 0.331000\n",
      "lr 1.000000e-06 reg 2.000000e+04 train accuracy: 0.333429 val accuracy: 0.356000\n",
      "lr 1.000000e-06 reg 4.000000e+04 train accuracy: 0.320531 val accuracy: 0.329000\n",
      "best validation accuracy achieved during cross-validation: 0.356000\n"
     ]
    }
   ],
   "source": [
    "# Use the validation set to tune hyperparameters (regularization strength and\n",
    "# learning rate). You should experiment with different ranges for the learning\n",
    "# rates and regularization strengths; if you are careful you should be able to\n",
    "# get a classification accuracy of over 0.35 on the validation set.\n",
    "\n",
    "from cs231n.classifiers import Softmax\n",
    "results = {}\n",
    "best_val = -1\n",
    "best_softmax = None\n",
    "\n",
    "################################################################################\n",
    "# TODO:                                                                        #\n",
    "# Use the validation set to set the learning rate and regularization strength. #\n",
    "# Save  the best trained softmax classifer in best_softmax.                    #\n",
    "################################################################################\n",
    "\n",
    "# Provided as a reference. You may or may not want to change these hyperparameters\n",
    "learning_rates = [1e-7, 1e-6]\n",
    "regularization_strengths = [2.0e4, 4e4]\n",
    "\n",
    "# *****START OF YOUR CODE (DO NOT DELETE/MODIFY THIS LINE)*****\n",
    "\n",
    "# imitando la implementacion de sklearn, creo una grilla (matriz) de busqueda \n",
    "# permutando los hiperparametros utilizando lists comprehensions\n",
    "grid_search = [[lr, rs] for lr in learning_rates for rs in regularization_strengths]\n",
    "\n",
    "for learning_rate, regularization_strength in grid_search:\n",
    "    softmax = Softmax()\n",
    "\n",
    "    softmax.train(X_train, y_train, learning_rate=learning_rate, \n",
    "                      reg=regularization_strength, num_iters=1500, verbose=True)\n",
    "    \n",
    "    y_train_pred = softmax.predict(X_train)\n",
    "    y_val_pred = softmax.predict(X_val)\n",
    "    \n",
    "    train_accuracy = np.mean(y_train_pred == y_train)\n",
    "    val_accuracy = np.mean(y_val_pred == y_val)\n",
    "\n",
    "    results[(learning_rate, regularization_strength)] = \\\n",
    "                            (train_accuracy, val_accuracy)\n",
    "    \n",
    "    if val_accuracy > best_val:\n",
    "        best_val = val_accuracy\n",
    "        best_softmax = softmax\n",
    "        \n",
    "# *****END OF YOUR CODE (DO NOT DELETE/MODIFY THIS LINE)*****\n",
    "    \n",
    "# Print out results.\n",
    "for lr, reg in sorted(results):\n",
    "    train_accuracy, val_accuracy = results[(lr, reg)]\n",
    "    print('lr %e reg %e train accuracy: %f val accuracy: %f' % (\n",
    "                lr, reg, train_accuracy, val_accuracy))\n",
    "    \n",
    "print('best validation accuracy achieved during cross-validation: %f' % best_val)"
   ]
  },
  {
   "cell_type": "code",
   "execution_count": 36,
   "metadata": {
    "id": "test"
   },
   "outputs": [
    {
     "name": "stdout",
     "output_type": "stream",
     "text": [
      "softmax on raw pixels final test set accuracy: 0.349000\n"
     ]
    }
   ],
   "source": [
    "# evaluate on test set\n",
    "# Evaluate the best softmax on test set\n",
    "y_test_pred = best_softmax.predict(X_test)\n",
    "test_accuracy = np.mean(y_test == y_test_pred)\n",
    "print('softmax on raw pixels final test set accuracy: %f' % (test_accuracy, ))"
   ]
  },
  {
   "cell_type": "markdown",
   "metadata": {
    "id": "WXdyTsGOZ5it"
   },
   "source": [
    "**Inline Question 2** - *Softmax loss with Temperature*\n",
    "\n",
    "Suppose we want to use a temperature parameter $T$ for the softmax distribution: \n",
    "$$P(i) = \\frac{e^{\\frac{f_i}{T}}}{\\sum_j e^{\\frac{f_j}{T}}} $$\n",
    "where $f_i$ is the score for class $i$\n",
    "- What values of $T$ would make the model more confident about its predictions?\n",
    "- How would it affect the training process? You may test this experimentally.\n",
    "\n",
    "\n",
    "$\\color{blue}{\\textit Your Answer:}$\n",
    "\n",
    "para $T=1$ se obtiene la misma discrepancia. Para $T<1$ el modelo tendrá mayor \"confianza\" en sus predicciones. Cuanto mayor sea la temperatura mas suave será el clasificador, esto quiere decir que tendrá menos confianza. Por ejemplo, si con $T=1$, el clasificador saca probabilidades (0.01 , 0.01 , 0.98), si aumentamos T se podría obtener algo de la forma (0.2,0.2,0.6) \n",
    "\n",
    "Al entrenar usando temperatura por ejemplo menor a 1 (modelo con mayor confianza en sus predicciones), se computa softmax utilizando valores mayores. El resultado es un clasificador mas propenso a errores. Se prueba (en otro notebook) y se observa que al entrenar con un valor menor a 1 para la temperatura, el término de loss disminuye mas rapidamente durante las iteraciones que con temperatura igual a 1. Se observa la tabla con los resultados en donde el accuracy en validacion se observa menor al de temperatura 1, coherente a lo expresado anteriormente: \n",
    "\n",
    "\n",
    "| T | Loss (última iter) | Training acc | Val acc |\n",
    "| --- | --- | --- | --- |\n",
    "| 0.1 | 1.91 | 0.29 | 0.3 |\n",
    "| 1 | 2.11 | 0.31 | 0.32 |"
   ]
  },
  {
   "cell_type": "code",
   "execution_count": 37,
   "metadata": {
    "id": "dYz0TyQFU3SB"
   },
   "outputs": [
    {
     "data": {
      "image/png": "[encoded data removed]",
      "text/plain": [
       "<Figure size 432x288 with 10 Axes>"
      ]
     },
     "metadata": {
      "needs_background": "light"
     },
     "output_type": "display_data"
    }
   ],
   "source": [
    "# Visualize the learned weights for each class\n",
    "w = best_softmax.W[:-1,:] # strip out the bias\n",
    "w = w.reshape(32, 32, 3, 10)\n",
    "\n",
    "w_min, w_max = np.min(w), np.max(w)\n",
    "\n",
    "classes = ['plane', 'car', 'bird', 'cat', 'deer', 'dog', 'frog', 'horse', 'ship', 'truck']\n",
    "for i in range(10):\n",
    "    plt.subplot(2, 5, i + 1)\n",
    "    \n",
    "    # Rescale the weights to be between 0 and 255\n",
    "    wimg = 255.0 * (w[:, :, :, i].squeeze() - w_min) / (w_max - w_min)\n",
    "    plt.imshow(wimg.astype('uint8'))\n",
    "    plt.axis('off')\n",
    "    plt.title(classes[i])"
   ]
  }
 ],
 "metadata": {
  "colab": {
   "collapsed_sections": [],
   "name": "softmax.ipynb",
   "provenance": []
  },
  "kernelspec": {
   "display_name": "Python 3",
   "language": "python",
   "name": "python3"
  },
  "language_info": {
   "codemirror_mode": {
    "name": "ipython",
    "version": 3
   },
   "file_extension": ".py",
   "mimetype": "text/x-python",
   "name": "python",
   "nbconvert_exporter": "python",
   "pygments_lexer": "ipython3",
   "version": "3.8.3"
  }
 },
 "nbformat": 4,
 "nbformat_minor": 1
}
